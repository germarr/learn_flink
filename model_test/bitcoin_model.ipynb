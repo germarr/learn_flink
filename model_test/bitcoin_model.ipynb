{
 "cells": [
  {
   "cell_type": "code",
   "execution_count": 4,
   "metadata": {},
   "outputs": [],
   "source": [
    "from pyflink.table import (\n",
    "    EnvironmentSettings,\n",
    "    TableEnvironment,\n",
    "    TableDescriptor,\n",
    "    Schema,\n",
    "    DataTypes,\n",
    "    FormatDescriptor,\n",
    "    EnvironmentSettings\n",
    ")\n",
    "from pyflink.table.window import Tumble,Slide, Over\n",
    "from pyflink.datastream import StreamExecutionEnvironment\n",
    "from pyflink.table import expressions as expr\n",
    "from pyflink.table.expressions import col,call, lit\n",
    "from pyflink.table.udf import udf"
   ]
  },
  {
   "cell_type": "code",
   "execution_count": 5,
   "metadata": {},
   "outputs": [],
   "source": [
    "env_settings = EnvironmentSettings.in_streaming_mode()\n",
    "t_env = TableEnvironment.create(env_settings)    # Point to the SQL Kafka connector JAR\n",
    "kafka_connector_jar = \"file:///Users/gerardomartinez/DataEng/alpaca/flink-connectors/flink-sql-connector-kafka-3.3.0.jar\"\n",
    "\n",
    "t_env.get_config().set(\"pipeline.jars\", kafka_connector_jar)\n",
    "\n",
    "dockerC = \"localhost:9092\"\n",
    "\n",
    "# # Define the Kafka source table\n",
    "t_env.create_temporary_table(\n",
    "    'bitcoin_table4',\n",
    "    TableDescriptor.for_connector('kafka')\n",
    "        .schema(Schema.new_builder()\n",
    "                .column('name_coin', DataTypes.STRING())\n",
    "                .column('timestamp', DataTypes.TIMESTAMP(3))\n",
    "                .watermark('timestamp', \"`timestamp` - INTERVAL '5' SECOND\")\n",
    "                .column('open', DataTypes.FLOAT())\n",
    "                .column('high', DataTypes.FLOAT())\n",
    "                .column('low', DataTypes.FLOAT())\n",
    "                .column('close', DataTypes.FLOAT()) \n",
    "                .column('volume', DataTypes.FLOAT())  \n",
    "                .column('current_time', DataTypes.TIMESTAMP(3))\n",
    "                .column_by_expression('start_of_hour', expr.call_sql(\"CAST(FLOOR(`timestamp` TO HOUR) AS TIMESTAMP(3))\"))     \n",
    "                .column_by_expression(\"proc_time\", \"PROCTIME()\")           \n",
    "                .build())\n",
    "        .option('topic', 'bitcoin_price_2')\n",
    "        .option('properties.bootstrap.servers', dockerC)\n",
    "        .option('properties.group.id', 'transaction_group')\n",
    "        .option('scan.startup.mode', 'earliest-offset')\n",
    "        .format(FormatDescriptor.for_format('json')\n",
    "                .option('fail-on-missing-field', 'false')\n",
    "                .option('ignore-parse-errors', 'true')\n",
    "                .build())\n",
    "        .build())\n",
    "\n",
    "t_env.create_temporary_table(\n",
    "        'bitcoin_sink',\n",
    "        TableDescriptor.for_connector('kafka')\n",
    "                .schema(Schema.new_builder()\n",
    "                        .column('name_coin', DataTypes.STRING())\n",
    "                        .column('open', DataTypes.FLOAT())\n",
    "                        .build())\n",
    "                .option('topic', 'bitcoin_summary')\n",
    "                .option('properties.bootstrap.servers', dockerC)\n",
    "                .format(FormatDescriptor.for_format('json')\n",
    "                        .build())\n",
    "                .build())\n",
    "\n",
    "\n",
    "source_table = t_env.from_path('bitcoin_table4') #.add_columns(expr.lit(\"Princeton\").alias(\"city\")).add_columns(col('current').get('temperature_2m').alias('temp'))\n"
   ]
  },
  {
   "cell_type": "code",
   "execution_count": 8,
   "metadata": {},
   "outputs": [
    {
     "name": "stdout",
     "output_type": "stream",
     "text": [
      "(\n",
      "  `name_coin` STRING,\n",
      "  `timestamp` TIMESTAMP(3) *ROWTIME*,\n",
      "  `open` FLOAT,\n",
      "  `high` FLOAT,\n",
      "  `low` FLOAT,\n",
      "  `close` FLOAT,\n",
      "  `volume` FLOAT,\n",
      "  `current_time` TIMESTAMP(3),\n",
      "  `start_of_hour` TIMESTAMP(3) AS CAST(FLOOR(`timestamp` TO HOUR) AS TIMESTAMP(3)),\n",
      "  `proc_time` TIMESTAMP_LTZ(3) NOT NULL *PROCTIME* AS PROCTIME(),\n",
      "  WATERMARK FOR `timestamp`: TIMESTAMP(3) AS `timestamp` - INTERVAL '5' SECOND\n",
      ")\n"
     ]
    }
   ],
   "source": [
    "source_table.print_schema()"
   ]
  },
  {
   "cell_type": "code",
   "execution_count": 7,
   "metadata": {},
   "outputs": [],
   "source": [
    "table = t_env.from_path(\"bitcoin_table4\")"
   ]
  },
  {
   "cell_type": "code",
   "execution_count": 9,
   "metadata": {},
   "outputs": [
    {
     "name": "stdout",
     "output_type": "stream",
     "text": [
      "+----+--------------------------------+\n",
      "| op |                      name_coin |\n",
      "+----+--------------------------------+\n",
      "| +I |                        BTC/USD |\n",
      "| +I |                        BTC/USD |\n",
      "| +I |                        BTC/USD |\n",
      "| +I |                        BTC/USD |\n",
      "| +I |                        BTC/USD |\n",
      "| +I |                        BTC/USD |\n",
      "| +I |                        BTC/USD |\n",
      "| +I |                        BTC/USD |\n",
      "| +I |                        BTC/USD |\n",
      "| +I |                        BTC/USD |\n",
      "| +I |                        BTC/USD |\n",
      "| +I |                        BTC/USD |\n",
      "| +I |                        BTC/USD |\n",
      "| +I |                        BTC/USD |\n",
      "| +I |                        BTC/USD |\n",
      "| +I |                        BTC/USD |\n",
      "| +I |                        BTC/USD |\n",
      "| +I |                        BTC/USD |\n",
      "| +I |                        BTC/USD |\n",
      "| +I |                        BTC/USD |\n",
      "| +I |                        BTC/USD |\n",
      "| +I |                        BTC/USD |\n",
      "| +I |                        BTC/USD |\n",
      "| +I |                        BTC/USD |\n",
      "| +I |                        BTC/USD |\n",
      "| +I |                        BTC/USD |\n",
      "| +I |                        BTC/USD |\n",
      "| +I |                        BTC/USD |\n",
      "| +I |                        BTC/USD |\n",
      "| +I |                        BTC/USD |\n",
      "| +I |                        BTC/USD |\n",
      "| +I |                        BTC/USD |\n",
      "| +I |                        BTC/USD |\n",
      "| +I |                        BTC/USD |\n",
      "| +I |                        BTC/USD |\n",
      "| +I |                        BTC/USD |\n",
      "| +I |                        BTC/USD |\n",
      "| +I |                        BTC/USD |\n",
      "| +I |                        BTC/USD |\n",
      "| +I |                        BTC/USD |\n",
      "| +I |                        BTC/USD |\n",
      "| +I |                        BTC/USD |\n",
      "| +I |                        BTC/USD |\n",
      "| +I |                        BTC/USD |\n",
      "| +I |                        BTC/USD |\n",
      "| +I |                        BTC/USD |\n",
      "| +I |                        BTC/USD |\n",
      "| +I |                        BTC/USD |\n",
      "| +I |                        BTC/USD |\n",
      "| +I |                        BTC/USD |\n",
      "| +I |                        BTC/USD |\n",
      "| +I |                        BTC/USD |\n",
      "| +I |                        BTC/USD |\n",
      "| +I |                        BTC/USD |\n",
      "| +I |                        BTC/USD |\n",
      "| +I |                        BTC/USD |\n",
      "| +I |                        BTC/USD |\n",
      "| +I |                        BTC/USD |\n",
      "| +I |                        BTC/USD |\n",
      "| +I |                        BTC/USD |\n",
      "| +I |                        BTC/USD |\n",
      "| +I |                        BTC/USD |\n",
      "| +I |                        BTC/USD |\n",
      "| +I |                        BTC/USD |\n",
      "| +I |                        BTC/USD |\n",
      "| +I |                        BTC/USD |\n",
      "| +I |                        BTC/USD |\n",
      "| +I |                        BTC/USD |\n",
      "| +I |                        BTC/USD |\n",
      "| +I |                        BTC/USD |\n",
      "| +I |                        BTC/USD |\n",
      "| +I |                        BTC/USD |\n",
      "| +I |                        BTC/USD |\n",
      "| +I |                        BTC/USD |\n",
      "| +I |                        BTC/USD |\n",
      "| +I |                        BTC/USD |\n",
      "| +I |                        BTC/USD |\n",
      "| +I |                        BTC/USD |\n",
      "| +I |                        BTC/USD |\n",
      "| +I |                        BTC/USD |\n",
      "| +I |                        BTC/USD |\n",
      "| +I |                        BTC/USD |\n",
      "| +I |                        BTC/USD |\n",
      "| +I |                        BTC/USD |\n",
      "| +I |                        BTC/USD |\n",
      "| +I |                        BTC/USD |\n",
      "| +I |                        BTC/USD |\n",
      "| +I |                        BTC/USD |\n",
      "| +I |                        BTC/USD |\n",
      "| +I |                        BTC/USD |\n",
      "| +I |                        BTC/USD |\n",
      "| +I |                        BTC/USD |\n",
      "| +I |                        BTC/USD |\n",
      "| +I |                        BTC/USD |\n",
      "| +I |                        BTC/USD |\n",
      "| +I |                        BTC/USD |\n",
      "| +I |                        BTC/USD |\n",
      "| +I |                        BTC/USD |\n",
      "| +I |                        BTC/USD |\n",
      "| +I |                        BTC/USD |\n",
      "| +I |                        BTC/USD |\n",
      "| +I |                        BTC/USD |\n",
      "| +I |                        BTC/USD |\n",
      "| +I |                        BTC/USD |\n",
      "| +I |                        BTC/USD |\n",
      "| +I |                        BTC/USD |\n",
      "| +I |                        BTC/USD |\n",
      "| +I |                        BTC/USD |\n",
      "| +I |                        BTC/USD |\n",
      "| +I |                        BTC/USD |\n",
      "| +I |                        BTC/USD |\n",
      "| +I |                        BTC/USD |\n",
      "| +I |                        BTC/USD |\n",
      "| +I |                        BTC/USD |\n",
      "| +I |                        BTC/USD |\n",
      "| +I |                        BTC/USD |\n",
      "| +I |                        BTC/USD |\n",
      "| +I |                        BTC/USD |\n",
      "| +I |                        BTC/USD |\n",
      "| +I |                        BTC/USD |\n",
      "| +I |                        BTC/USD |\n",
      "| +I |                        BTC/USD |\n",
      "| +I |                        BTC/USD |\n",
      "| +I |                        BTC/USD |\n",
      "| +I |                        BTC/USD |\n",
      "| +I |                        BTC/USD |\n",
      "| +I |                        BTC/USD |\n",
      "| +I |                        BTC/USD |\n",
      "| +I |                        BTC/USD |\n",
      "| +I |                        BTC/USD |\n",
      "| +I |                        BTC/USD |\n",
      "| +I |                        BTC/USD |\n",
      "| +I |                        BTC/USD |\n",
      "| +I |                        BTC/USD |\n",
      "| +I |                        BTC/USD |\n",
      "| +I |                        BTC/USD |\n",
      "| +I |                        BTC/USD |\n",
      "| +I |                        BTC/USD |\n",
      "| +I |                        BTC/USD |\n",
      "| +I |                        BTC/USD |\n",
      "| +I |                        BTC/USD |\n",
      "| +I |                        BTC/USD |\n",
      "| +I |                        BTC/USD |\n",
      "| +I |                        BTC/USD |\n",
      "| +I |                        BTC/USD |\n",
      "| +I |                        BTC/USD |\n",
      "| +I |                        BTC/USD |\n",
      "| +I |                        BTC/USD |\n",
      "| +I |                        BTC/USD |\n",
      "| +I |                        BTC/USD |\n",
      "| +I |                        BTC/USD |\n",
      "| +I |                        BTC/USD |\n",
      "| +I |                        BTC/USD |\n",
      "| +I |                        BTC/USD |\n",
      "| +I |                        BTC/USD |\n",
      "| +I |                        BTC/USD |\n",
      "| +I |                        BTC/USD |\n",
      "| +I |                        BTC/USD |\n",
      "| +I |                        BTC/USD |\n",
      "| +I |                        BTC/USD |\n",
      "| +I |                        BTC/USD |\n",
      "| +I |                        BTC/USD |\n",
      "| +I |                        BTC/USD |\n",
      "| +I |                        BTC/USD |\n",
      "| +I |                        BTC/USD |\n",
      "| +I |                        BTC/USD |\n",
      "| +I |                        BTC/USD |\n",
      "| +I |                        BTC/USD |\n",
      "| +I |                        BTC/USD |\n",
      "| +I |                        BTC/USD |\n",
      "| +I |                        BTC/USD |\n",
      "| +I |                        BTC/USD |\n",
      "| +I |                        BTC/USD |\n",
      "| +I |                        BTC/USD |\n",
      "| +I |                        BTC/USD |\n",
      "| +I |                        BTC/USD |\n",
      "| +I |                        BTC/USD |\n",
      "| +I |                        BTC/USD |\n",
      "| +I |                        BTC/USD |\n",
      "| +I |                        BTC/USD |\n",
      "| +I |                        BTC/USD |\n",
      "| +I |                        BTC/USD |\n",
      "| +I |                        BTC/USD |\n",
      "| +I |                        BTC/USD |\n",
      "| +I |                        BTC/USD |\n",
      "| +I |                        BTC/USD |\n",
      "| +I |                        BTC/USD |\n",
      "| +I |                        BTC/USD |\n",
      "| +I |                        BTC/USD |\n",
      "| +I |                        BTC/USD |\n",
      "| +I |                        BTC/USD |\n",
      "| +I |                        BTC/USD |\n",
      "| +I |                        BTC/USD |\n",
      "| +I |                        BTC/USD |\n",
      "| +I |                        BTC/USD |\n",
      "| +I |                        BTC/USD |\n",
      "| +I |                        BTC/USD |\n",
      "| +I |                        BTC/USD |\n",
      "| +I |                        BTC/USD |\n",
      "| +I |                        BTC/USD |\n",
      "| +I |                        BTC/USD |\n",
      "| +I |                        BTC/USD |\n",
      "| +I |                        BTC/USD |\n",
      "| +I |                        BTC/USD |\n",
      "| +I |                        BTC/USD |\n",
      "| +I |                        BTC/USD |\n",
      "| +I |                        BTC/USD |\n",
      "| +I |                        BTC/USD |\n",
      "| +I |                        BTC/USD |\n",
      "| +I |                        BTC/USD |\n",
      "| +I |                        BTC/USD |\n",
      "| +I |                        BTC/USD |\n",
      "| +I |                        BTC/USD |\n",
      "| +I |                        BTC/USD |\n",
      "| +I |                        BTC/USD |\n",
      "| +I |                        BTC/USD |\n",
      "| +I |                        BTC/USD |\n",
      "| +I |                        BTC/USD |\n",
      "| +I |                        BTC/USD |\n",
      "| +I |                        BTC/USD |\n",
      "| +I |                        BTC/USD |\n",
      "| +I |                        BTC/USD |\n",
      "| +I |                        BTC/USD |\n",
      "| +I |                        BTC/USD |\n",
      "| +I |                        BTC/USD |\n",
      "| +I |                        BTC/USD |\n",
      "| +I |                        BTC/USD |\n",
      "| +I |                        BTC/USD |\n",
      "| +I |                        BTC/USD |\n",
      "| +I |                        BTC/USD |\n",
      "| +I |                        BTC/USD |\n",
      "| +I |                        BTC/USD |\n",
      "| +I |                        BTC/USD |\n"
     ]
    },
    {
     "name": "stderr",
     "output_type": "stream",
     "text": [
      "ERROR:root:KeyboardInterrupt while sending command.\n",
      "Traceback (most recent call last):\n",
      "  File \"/Users/gerardomartinez/DataEng/.venv/lib/python3.10/site-packages/py4j/java_gateway.py\", line 1038, in send_command\n",
      "    response = connection.send_command(command)\n",
      "  File \"/Users/gerardomartinez/DataEng/.venv/lib/python3.10/site-packages/py4j/java_gateway.py\", line 1217, in send_command\n",
      "    answer = smart_decode(self.stream.readline()[:-1])\n",
      "  File \"/Users/gerardomartinez/.pyenv/versions/3.10.4/lib/python3.10/socket.py\", line 705, in readinto\n",
      "    return self._sock.recv_into(b)\n",
      "KeyboardInterrupt\n"
     ]
    },
    {
     "ename": "KeyboardInterrupt",
     "evalue": "",
     "output_type": "error",
     "traceback": [
      "\u001b[0;31m---------------------------------------------------------------------------\u001b[0m",
      "\u001b[0;31mKeyboardInterrupt\u001b[0m                         Traceback (most recent call last)",
      "Cell \u001b[0;32mIn[9], line 1\u001b[0m\n\u001b[0;32m----> 1\u001b[0m \u001b[43mtable\u001b[49m\u001b[38;5;241;43m.\u001b[39;49m\u001b[43mselect\u001b[49m\u001b[43m(\u001b[49m\u001b[43mcol\u001b[49m\u001b[43m(\u001b[49m\u001b[38;5;124;43m\"\u001b[39;49m\u001b[38;5;124;43mname_coin\u001b[39;49m\u001b[38;5;124;43m\"\u001b[39;49m\u001b[43m)\u001b[49m\u001b[43m)\u001b[49m\u001b[38;5;241;43m.\u001b[39;49m\u001b[43mexecute\u001b[49m\u001b[43m(\u001b[49m\u001b[43m)\u001b[49m\u001b[38;5;241;43m.\u001b[39;49m\u001b[43mprint\u001b[49m\u001b[43m(\u001b[49m\u001b[43m)\u001b[49m\n",
      "File \u001b[0;32m~/DataEng/.venv/lib/python3.10/site-packages/pyflink/table/table_result.py:219\u001b[0m, in \u001b[0;36mTableResult.print\u001b[0;34m(self)\u001b[0m\n\u001b[1;32m    198\u001b[0m \u001b[38;5;28;01mdef\u001b[39;00m\u001b[38;5;250m \u001b[39m\u001b[38;5;21mprint\u001b[39m(\u001b[38;5;28mself\u001b[39m):\n\u001b[1;32m    199\u001b[0m \u001b[38;5;250m    \u001b[39m\u001b[38;5;124;03m\"\"\"\u001b[39;00m\n\u001b[1;32m    200\u001b[0m \u001b[38;5;124;03m    Print the result contents as tableau form to client console.\u001b[39;00m\n\u001b[1;32m    201\u001b[0m \n\u001b[0;32m   (...)\u001b[0m\n\u001b[1;32m    217\u001b[0m \u001b[38;5;124;03m    .. versionadded:: 1.11.0\u001b[39;00m\n\u001b[1;32m    218\u001b[0m \u001b[38;5;124;03m    \"\"\"\u001b[39;00m\n\u001b[0;32m--> 219\u001b[0m     \u001b[38;5;28;43mself\u001b[39;49m\u001b[38;5;241;43m.\u001b[39;49m\u001b[43m_j_table_result\u001b[49m\u001b[38;5;241;43m.\u001b[39;49m\u001b[43mprint\u001b[49m\u001b[43m(\u001b[49m\u001b[43m)\u001b[49m\n",
      "File \u001b[0;32m~/DataEng/.venv/lib/python3.10/site-packages/py4j/java_gateway.py:1321\u001b[0m, in \u001b[0;36mJavaMember.__call__\u001b[0;34m(self, *args)\u001b[0m\n\u001b[1;32m   1314\u001b[0m args_command, temp_args \u001b[38;5;241m=\u001b[39m \u001b[38;5;28mself\u001b[39m\u001b[38;5;241m.\u001b[39m_build_args(\u001b[38;5;241m*\u001b[39margs)\n\u001b[1;32m   1316\u001b[0m command \u001b[38;5;241m=\u001b[39m proto\u001b[38;5;241m.\u001b[39mCALL_COMMAND_NAME \u001b[38;5;241m+\u001b[39m\\\n\u001b[1;32m   1317\u001b[0m     \u001b[38;5;28mself\u001b[39m\u001b[38;5;241m.\u001b[39mcommand_header \u001b[38;5;241m+\u001b[39m\\\n\u001b[1;32m   1318\u001b[0m     args_command \u001b[38;5;241m+\u001b[39m\\\n\u001b[1;32m   1319\u001b[0m     proto\u001b[38;5;241m.\u001b[39mEND_COMMAND_PART\n\u001b[0;32m-> 1321\u001b[0m answer \u001b[38;5;241m=\u001b[39m \u001b[38;5;28;43mself\u001b[39;49m\u001b[38;5;241;43m.\u001b[39;49m\u001b[43mgateway_client\u001b[49m\u001b[38;5;241;43m.\u001b[39;49m\u001b[43msend_command\u001b[49m\u001b[43m(\u001b[49m\u001b[43mcommand\u001b[49m\u001b[43m)\u001b[49m\n\u001b[1;32m   1322\u001b[0m return_value \u001b[38;5;241m=\u001b[39m get_return_value(\n\u001b[1;32m   1323\u001b[0m     answer, \u001b[38;5;28mself\u001b[39m\u001b[38;5;241m.\u001b[39mgateway_client, \u001b[38;5;28mself\u001b[39m\u001b[38;5;241m.\u001b[39mtarget_id, \u001b[38;5;28mself\u001b[39m\u001b[38;5;241m.\u001b[39mname)\n\u001b[1;32m   1325\u001b[0m \u001b[38;5;28;01mfor\u001b[39;00m temp_arg \u001b[38;5;129;01min\u001b[39;00m temp_args:\n",
      "File \u001b[0;32m~/DataEng/.venv/lib/python3.10/site-packages/py4j/java_gateway.py:1038\u001b[0m, in \u001b[0;36mGatewayClient.send_command\u001b[0;34m(self, command, retry, binary)\u001b[0m\n\u001b[1;32m   1036\u001b[0m connection \u001b[38;5;241m=\u001b[39m \u001b[38;5;28mself\u001b[39m\u001b[38;5;241m.\u001b[39m_get_connection()\n\u001b[1;32m   1037\u001b[0m \u001b[38;5;28;01mtry\u001b[39;00m:\n\u001b[0;32m-> 1038\u001b[0m     response \u001b[38;5;241m=\u001b[39m \u001b[43mconnection\u001b[49m\u001b[38;5;241;43m.\u001b[39;49m\u001b[43msend_command\u001b[49m\u001b[43m(\u001b[49m\u001b[43mcommand\u001b[49m\u001b[43m)\u001b[49m\n\u001b[1;32m   1039\u001b[0m     \u001b[38;5;28;01mif\u001b[39;00m binary:\n\u001b[1;32m   1040\u001b[0m         \u001b[38;5;28;01mreturn\u001b[39;00m response, \u001b[38;5;28mself\u001b[39m\u001b[38;5;241m.\u001b[39m_create_connection_guard(connection)\n",
      "File \u001b[0;32m~/DataEng/.venv/lib/python3.10/site-packages/py4j/java_gateway.py:1217\u001b[0m, in \u001b[0;36mGatewayConnection.send_command\u001b[0;34m(self, command)\u001b[0m\n\u001b[1;32m   1213\u001b[0m     \u001b[38;5;28;01mraise\u001b[39;00m Py4JNetworkError(\n\u001b[1;32m   1214\u001b[0m         \u001b[38;5;124m\"\u001b[39m\u001b[38;5;124mError while sending\u001b[39m\u001b[38;5;124m\"\u001b[39m, e, proto\u001b[38;5;241m.\u001b[39mERROR_ON_SEND)\n\u001b[1;32m   1216\u001b[0m \u001b[38;5;28;01mtry\u001b[39;00m:\n\u001b[0;32m-> 1217\u001b[0m     answer \u001b[38;5;241m=\u001b[39m smart_decode(\u001b[38;5;28;43mself\u001b[39;49m\u001b[38;5;241;43m.\u001b[39;49m\u001b[43mstream\u001b[49m\u001b[38;5;241;43m.\u001b[39;49m\u001b[43mreadline\u001b[49m\u001b[43m(\u001b[49m\u001b[43m)\u001b[49m[:\u001b[38;5;241m-\u001b[39m\u001b[38;5;241m1\u001b[39m])\n\u001b[1;32m   1218\u001b[0m     logger\u001b[38;5;241m.\u001b[39mdebug(\u001b[38;5;124m\"\u001b[39m\u001b[38;5;124mAnswer received: \u001b[39m\u001b[38;5;132;01m{0}\u001b[39;00m\u001b[38;5;124m\"\u001b[39m\u001b[38;5;241m.\u001b[39mformat(answer))\n\u001b[1;32m   1219\u001b[0m     \u001b[38;5;28;01mif\u001b[39;00m answer\u001b[38;5;241m.\u001b[39mstartswith(proto\u001b[38;5;241m.\u001b[39mRETURN_MESSAGE):\n",
      "File \u001b[0;32m~/.pyenv/versions/3.10.4/lib/python3.10/socket.py:705\u001b[0m, in \u001b[0;36mSocketIO.readinto\u001b[0;34m(self, b)\u001b[0m\n\u001b[1;32m    703\u001b[0m \u001b[38;5;28;01mwhile\u001b[39;00m \u001b[38;5;28;01mTrue\u001b[39;00m:\n\u001b[1;32m    704\u001b[0m     \u001b[38;5;28;01mtry\u001b[39;00m:\n\u001b[0;32m--> 705\u001b[0m         \u001b[38;5;28;01mreturn\u001b[39;00m \u001b[38;5;28;43mself\u001b[39;49m\u001b[38;5;241;43m.\u001b[39;49m\u001b[43m_sock\u001b[49m\u001b[38;5;241;43m.\u001b[39;49m\u001b[43mrecv_into\u001b[49m\u001b[43m(\u001b[49m\u001b[43mb\u001b[49m\u001b[43m)\u001b[49m\n\u001b[1;32m    706\u001b[0m     \u001b[38;5;28;01mexcept\u001b[39;00m timeout:\n\u001b[1;32m    707\u001b[0m         \u001b[38;5;28mself\u001b[39m\u001b[38;5;241m.\u001b[39m_timeout_occurred \u001b[38;5;241m=\u001b[39m \u001b[38;5;28;01mTrue\u001b[39;00m\n",
      "\u001b[0;31mKeyboardInterrupt\u001b[0m: "
     ]
    },
    {
     "name": "stdout",
     "output_type": "stream",
     "text": [
      "| +I |                        BTC/USD | 2025-02-07 09:27:00.000 |                         <NULL> |\n"
     ]
    }
   ],
   "source": [
    "table.select(col(\"name_coin\")).execute().print()"
   ]
  },
  {
   "cell_type": "code",
   "execution_count": 5,
   "metadata": {},
   "outputs": [
    {
     "ename": "NameError",
     "evalue": "name 'aggregated' is not defined",
     "output_type": "error",
     "traceback": [
      "\u001b[0;31m---------------------------------------------------------------------------\u001b[0m",
      "\u001b[0;31mNameError\u001b[0m                                 Traceback (most recent call last)",
      "Cell \u001b[0;32mIn[5], line 1\u001b[0m\n\u001b[0;32m----> 1\u001b[0m t_env\u001b[38;5;241m.\u001b[39mcreate_temporary_view(\u001b[38;5;124m\"\u001b[39m\u001b[38;5;124maggregated_view\u001b[39m\u001b[38;5;124m\"\u001b[39m, \u001b[43maggregated\u001b[49m)\n",
      "\u001b[0;31mNameError\u001b[0m: name 'aggregated' is not defined"
     ]
    }
   ],
   "source": [
    "t_env.create_temporary_view(\"aggregated_view\", aggregated)"
   ]
  },
  {
   "cell_type": "code",
   "execution_count": 7,
   "metadata": {},
   "outputs": [
    {
     "ename": "Py4JJavaError",
     "evalue": "An error occurred while calling o8.sqlQuery.\n: org.apache.flink.table.api.SqlParserException: SQL parse failed. Encountered \"(\" at line 6, column 30.\nWas expecting one of:\n    <EOF> \n    \"EXCEPT\" ...\n    \"FETCH\" ...\n    \"FROM\" ...\n    \"INTERSECT\" ...\n    \"LIMIT\" ...\n    \"OFFSET\" ...\n    \"ORDER\" ...\n    \"MINUS\" ...\n    \"UNION\" ...\n    \";\" ...\n    \",\" ...\n    \n\tat org.apache.flink.table.planner.parse.CalciteParser.parseSqlList(CalciteParser.java:81)\n\tat org.apache.flink.table.planner.delegation.ParserImpl.parse(ParserImpl.java:102)\n\tat org.apache.flink.table.api.internal.TableEnvironmentImpl.sqlQuery(TableEnvironmentImpl.java:708)\n\tat java.base/jdk.internal.reflect.DirectMethodHandleAccessor.invoke(DirectMethodHandleAccessor.java:103)\n\tat java.base/java.lang.reflect.Method.invoke(Method.java:580)\n\tat org.apache.flink.api.python.shaded.py4j.reflection.MethodInvoker.invoke(MethodInvoker.java:244)\n\tat org.apache.flink.api.python.shaded.py4j.reflection.ReflectionEngine.invoke(ReflectionEngine.java:374)\n\tat org.apache.flink.api.python.shaded.py4j.Gateway.invoke(Gateway.java:282)\n\tat org.apache.flink.api.python.shaded.py4j.commands.AbstractCommand.invokeMethod(AbstractCommand.java:132)\n\tat org.apache.flink.api.python.shaded.py4j.commands.CallCommand.execute(CallCommand.java:79)\n\tat org.apache.flink.api.python.shaded.py4j.GatewayConnection.run(GatewayConnection.java:238)\n\tat java.base/java.lang.Thread.run(Thread.java:1575)\nCaused by: org.apache.calcite.sql.parser.SqlParseException: Encountered \"(\" at line 6, column 30.\nWas expecting one of:\n    <EOF> \n    \"EXCEPT\" ...\n    \"FETCH\" ...\n    \"FROM\" ...\n    \"INTERSECT\" ...\n    \"LIMIT\" ...\n    \"OFFSET\" ...\n    \"ORDER\" ...\n    \"MINUS\" ...\n    \"UNION\" ...\n    \";\" ...\n    \",\" ...\n    \n\tat org.apache.flink.sql.parser.impl.FlinkSqlParserImpl.convertException(FlinkSqlParserImpl.java:539)\n\tat org.apache.flink.sql.parser.impl.FlinkSqlParserImpl.normalizeException(FlinkSqlParserImpl.java:292)\n\tat org.apache.calcite.sql.parser.SqlParser.handleException(SqlParser.java:156)\n\tat org.apache.calcite.sql.parser.SqlParser.parseStmtList(SqlParser.java:211)\n\tat org.apache.flink.table.planner.parse.CalciteParser.parseSqlList(CalciteParser.java:76)\n\t... 11 more\nCaused by: org.apache.flink.sql.parser.impl.ParseException: Encountered \"(\" at line 6, column 30.\nWas expecting one of:\n    <EOF> \n    \"EXCEPT\" ...\n    \"FETCH\" ...\n    \"FROM\" ...\n    \"INTERSECT\" ...\n    \"LIMIT\" ...\n    \"OFFSET\" ...\n    \"ORDER\" ...\n    \"MINUS\" ...\n    \"UNION\" ...\n    \";\" ...\n    \",\" ...\n    \n\tat org.apache.flink.sql.parser.impl.FlinkSqlParserImpl.generateParseException(FlinkSqlParserImpl.java:50082)\n\tat org.apache.flink.sql.parser.impl.FlinkSqlParserImpl.jj_consume_token(FlinkSqlParserImpl.java:49890)\n\tat org.apache.flink.sql.parser.impl.FlinkSqlParserImpl.SqlStmtList(FlinkSqlParserImpl.java:3706)\n\tat org.apache.flink.sql.parser.impl.FlinkSqlParserImpl.parseSqlStmtList(FlinkSqlParserImpl.java:348)\n\tat org.apache.calcite.sql.parser.SqlParser.parseStmtList(SqlParser.java:209)\n\t... 12 more\n",
     "output_type": "error",
     "traceback": [
      "\u001b[0;31m---------------------------------------------------------------------------\u001b[0m",
      "\u001b[0;31mPy4JJavaError\u001b[0m                             Traceback (most recent call last)",
      "Cell \u001b[0;32mIn[7], line 1\u001b[0m\n\u001b[0;32m----> 1\u001b[0m aggregated \u001b[38;5;241m=\u001b[39m \u001b[43mt_env\u001b[49m\u001b[38;5;241;43m.\u001b[39;49m\u001b[43msql_query\u001b[49m\u001b[43m(\u001b[49m\u001b[38;5;124;43m\"\"\"\u001b[39;49m\n\u001b[1;32m      2\u001b[0m \u001b[38;5;124;43m    SELECT\u001b[39;49m\n\u001b[1;32m      3\u001b[0m \u001b[38;5;124;43m        name_coin,\u001b[39;49m\n\u001b[1;32m      4\u001b[0m \u001b[38;5;124;43m        TUMBLE_START(proc_time, INTERVAL \u001b[39;49m\u001b[38;5;124;43m'\u001b[39;49m\u001b[38;5;124;43m1\u001b[39;49m\u001b[38;5;124;43m'\u001b[39;49m\u001b[38;5;124;43m MINUTE) AS current_minute,\u001b[39;49m\n\u001b[1;32m      5\u001b[0m \u001b[38;5;124;43m        AVG(`open`) AS avg_open,\u001b[39;49m\n\u001b[1;32m      6\u001b[0m \u001b[38;5;124;43m        proc_time as PROCTIME()\u001b[39;49m\n\u001b[1;32m      7\u001b[0m \u001b[38;5;124;43m    FROM bitcoin_table4\u001b[39;49m\n\u001b[1;32m      8\u001b[0m \u001b[38;5;124;43m    GROUP BY\u001b[39;49m\n\u001b[1;32m      9\u001b[0m \u001b[38;5;124;43m        name_coin,\u001b[39;49m\n\u001b[1;32m     10\u001b[0m \u001b[38;5;124;43m        TUMBLE(proc_time, INTERVAL \u001b[39;49m\u001b[38;5;124;43m'\u001b[39;49m\u001b[38;5;124;43m1\u001b[39;49m\u001b[38;5;124;43m'\u001b[39;49m\u001b[38;5;124;43m MINUTE),\u001b[39;49m\n\u001b[1;32m     11\u001b[0m \u001b[38;5;124;43m        proc_time\u001b[39;49m\n\u001b[1;32m     12\u001b[0m \u001b[38;5;124;43m\"\"\"\u001b[39;49m\u001b[43m)\u001b[49m\n\u001b[1;32m     14\u001b[0m t_env\u001b[38;5;241m.\u001b[39mcreate_temporary_view(\u001b[38;5;124m\"\u001b[39m\u001b[38;5;124maggregated_view\u001b[39m\u001b[38;5;124m\"\u001b[39m, aggregated)\n",
      "File \u001b[0;32m~/DataEng/.venv/lib/python3.10/site-packages/pyflink/table/table_environment.py:819\u001b[0m, in \u001b[0;36mTableEnvironment.sql_query\u001b[0;34m(self, query)\u001b[0m\n\u001b[1;32m    799\u001b[0m \u001b[38;5;28;01mdef\u001b[39;00m\u001b[38;5;250m \u001b[39m\u001b[38;5;21msql_query\u001b[39m(\u001b[38;5;28mself\u001b[39m, query: \u001b[38;5;28mstr\u001b[39m) \u001b[38;5;241m-\u001b[39m\u001b[38;5;241m>\u001b[39m Table:\n\u001b[1;32m    800\u001b[0m \u001b[38;5;250m    \u001b[39m\u001b[38;5;124;03m\"\"\"\u001b[39;00m\n\u001b[1;32m    801\u001b[0m \u001b[38;5;124;03m    Evaluates a SQL query on registered tables and retrieves the result as a\u001b[39;00m\n\u001b[1;32m    802\u001b[0m \u001b[38;5;124;03m    :class:`~pyflink.table.Table`.\u001b[39;00m\n\u001b[0;32m   (...)\u001b[0m\n\u001b[1;32m    817\u001b[0m \u001b[38;5;124;03m    :return: The result table.\u001b[39;00m\n\u001b[1;32m    818\u001b[0m \u001b[38;5;124;03m    \"\"\"\u001b[39;00m\n\u001b[0;32m--> 819\u001b[0m     j_table \u001b[38;5;241m=\u001b[39m \u001b[38;5;28;43mself\u001b[39;49m\u001b[38;5;241;43m.\u001b[39;49m\u001b[43m_j_tenv\u001b[49m\u001b[38;5;241;43m.\u001b[39;49m\u001b[43msqlQuery\u001b[49m\u001b[43m(\u001b[49m\u001b[43mquery\u001b[49m\u001b[43m)\u001b[49m\n\u001b[1;32m    820\u001b[0m     \u001b[38;5;28;01mreturn\u001b[39;00m Table(j_table, \u001b[38;5;28mself\u001b[39m)\n",
      "File \u001b[0;32m~/DataEng/.venv/lib/python3.10/site-packages/py4j/java_gateway.py:1322\u001b[0m, in \u001b[0;36mJavaMember.__call__\u001b[0;34m(self, *args)\u001b[0m\n\u001b[1;32m   1316\u001b[0m command \u001b[38;5;241m=\u001b[39m proto\u001b[38;5;241m.\u001b[39mCALL_COMMAND_NAME \u001b[38;5;241m+\u001b[39m\\\n\u001b[1;32m   1317\u001b[0m     \u001b[38;5;28mself\u001b[39m\u001b[38;5;241m.\u001b[39mcommand_header \u001b[38;5;241m+\u001b[39m\\\n\u001b[1;32m   1318\u001b[0m     args_command \u001b[38;5;241m+\u001b[39m\\\n\u001b[1;32m   1319\u001b[0m     proto\u001b[38;5;241m.\u001b[39mEND_COMMAND_PART\n\u001b[1;32m   1321\u001b[0m answer \u001b[38;5;241m=\u001b[39m \u001b[38;5;28mself\u001b[39m\u001b[38;5;241m.\u001b[39mgateway_client\u001b[38;5;241m.\u001b[39msend_command(command)\n\u001b[0;32m-> 1322\u001b[0m return_value \u001b[38;5;241m=\u001b[39m \u001b[43mget_return_value\u001b[49m\u001b[43m(\u001b[49m\n\u001b[1;32m   1323\u001b[0m \u001b[43m    \u001b[49m\u001b[43manswer\u001b[49m\u001b[43m,\u001b[49m\u001b[43m \u001b[49m\u001b[38;5;28;43mself\u001b[39;49m\u001b[38;5;241;43m.\u001b[39;49m\u001b[43mgateway_client\u001b[49m\u001b[43m,\u001b[49m\u001b[43m \u001b[49m\u001b[38;5;28;43mself\u001b[39;49m\u001b[38;5;241;43m.\u001b[39;49m\u001b[43mtarget_id\u001b[49m\u001b[43m,\u001b[49m\u001b[43m \u001b[49m\u001b[38;5;28;43mself\u001b[39;49m\u001b[38;5;241;43m.\u001b[39;49m\u001b[43mname\u001b[49m\u001b[43m)\u001b[49m\n\u001b[1;32m   1325\u001b[0m \u001b[38;5;28;01mfor\u001b[39;00m temp_arg \u001b[38;5;129;01min\u001b[39;00m temp_args:\n\u001b[1;32m   1326\u001b[0m     \u001b[38;5;28;01mif\u001b[39;00m \u001b[38;5;28mhasattr\u001b[39m(temp_arg, \u001b[38;5;124m\"\u001b[39m\u001b[38;5;124m_detach\u001b[39m\u001b[38;5;124m\"\u001b[39m):\n",
      "File \u001b[0;32m~/DataEng/.venv/lib/python3.10/site-packages/pyflink/util/exceptions.py:146\u001b[0m, in \u001b[0;36mcapture_java_exception.<locals>.deco\u001b[0;34m(*a, **kw)\u001b[0m\n\u001b[1;32m    144\u001b[0m \u001b[38;5;28;01mdef\u001b[39;00m\u001b[38;5;250m \u001b[39m\u001b[38;5;21mdeco\u001b[39m(\u001b[38;5;241m*\u001b[39ma, \u001b[38;5;241m*\u001b[39m\u001b[38;5;241m*\u001b[39mkw):\n\u001b[1;32m    145\u001b[0m     \u001b[38;5;28;01mtry\u001b[39;00m:\n\u001b[0;32m--> 146\u001b[0m         \u001b[38;5;28;01mreturn\u001b[39;00m \u001b[43mf\u001b[49m\u001b[43m(\u001b[49m\u001b[38;5;241;43m*\u001b[39;49m\u001b[43ma\u001b[49m\u001b[43m,\u001b[49m\u001b[43m \u001b[49m\u001b[38;5;241;43m*\u001b[39;49m\u001b[38;5;241;43m*\u001b[39;49m\u001b[43mkw\u001b[49m\u001b[43m)\u001b[49m\n\u001b[1;32m    147\u001b[0m     \u001b[38;5;28;01mexcept\u001b[39;00m Py4JJavaError \u001b[38;5;28;01mas\u001b[39;00m e:\n\u001b[1;32m    148\u001b[0m         \u001b[38;5;28;01mfrom\u001b[39;00m\u001b[38;5;250m \u001b[39m\u001b[38;5;21;01mpyflink\u001b[39;00m\u001b[38;5;21;01m.\u001b[39;00m\u001b[38;5;21;01mjava_gateway\u001b[39;00m\u001b[38;5;250m \u001b[39m\u001b[38;5;28;01mimport\u001b[39;00m get_gateway\n",
      "File \u001b[0;32m~/DataEng/.venv/lib/python3.10/site-packages/py4j/protocol.py:326\u001b[0m, in \u001b[0;36mget_return_value\u001b[0;34m(answer, gateway_client, target_id, name)\u001b[0m\n\u001b[1;32m    324\u001b[0m value \u001b[38;5;241m=\u001b[39m OUTPUT_CONVERTER[\u001b[38;5;28mtype\u001b[39m](answer[\u001b[38;5;241m2\u001b[39m:], gateway_client)\n\u001b[1;32m    325\u001b[0m \u001b[38;5;28;01mif\u001b[39;00m answer[\u001b[38;5;241m1\u001b[39m] \u001b[38;5;241m==\u001b[39m REFERENCE_TYPE:\n\u001b[0;32m--> 326\u001b[0m     \u001b[38;5;28;01mraise\u001b[39;00m Py4JJavaError(\n\u001b[1;32m    327\u001b[0m         \u001b[38;5;124m\"\u001b[39m\u001b[38;5;124mAn error occurred while calling \u001b[39m\u001b[38;5;132;01m{0}\u001b[39;00m\u001b[38;5;132;01m{1}\u001b[39;00m\u001b[38;5;132;01m{2}\u001b[39;00m\u001b[38;5;124m.\u001b[39m\u001b[38;5;130;01m\\n\u001b[39;00m\u001b[38;5;124m\"\u001b[39m\u001b[38;5;241m.\u001b[39m\n\u001b[1;32m    328\u001b[0m         \u001b[38;5;28mformat\u001b[39m(target_id, \u001b[38;5;124m\"\u001b[39m\u001b[38;5;124m.\u001b[39m\u001b[38;5;124m\"\u001b[39m, name), value)\n\u001b[1;32m    329\u001b[0m \u001b[38;5;28;01melse\u001b[39;00m:\n\u001b[1;32m    330\u001b[0m     \u001b[38;5;28;01mraise\u001b[39;00m Py4JError(\n\u001b[1;32m    331\u001b[0m         \u001b[38;5;124m\"\u001b[39m\u001b[38;5;124mAn error occurred while calling \u001b[39m\u001b[38;5;132;01m{0}\u001b[39;00m\u001b[38;5;132;01m{1}\u001b[39;00m\u001b[38;5;132;01m{2}\u001b[39;00m\u001b[38;5;124m. Trace:\u001b[39m\u001b[38;5;130;01m\\n\u001b[39;00m\u001b[38;5;132;01m{3}\u001b[39;00m\u001b[38;5;130;01m\\n\u001b[39;00m\u001b[38;5;124m\"\u001b[39m\u001b[38;5;241m.\u001b[39m\n\u001b[1;32m    332\u001b[0m         \u001b[38;5;28mformat\u001b[39m(target_id, \u001b[38;5;124m\"\u001b[39m\u001b[38;5;124m.\u001b[39m\u001b[38;5;124m\"\u001b[39m, name, value))\n",
      "\u001b[0;31mPy4JJavaError\u001b[0m: An error occurred while calling o8.sqlQuery.\n: org.apache.flink.table.api.SqlParserException: SQL parse failed. Encountered \"(\" at line 6, column 30.\nWas expecting one of:\n    <EOF> \n    \"EXCEPT\" ...\n    \"FETCH\" ...\n    \"FROM\" ...\n    \"INTERSECT\" ...\n    \"LIMIT\" ...\n    \"OFFSET\" ...\n    \"ORDER\" ...\n    \"MINUS\" ...\n    \"UNION\" ...\n    \";\" ...\n    \",\" ...\n    \n\tat org.apache.flink.table.planner.parse.CalciteParser.parseSqlList(CalciteParser.java:81)\n\tat org.apache.flink.table.planner.delegation.ParserImpl.parse(ParserImpl.java:102)\n\tat org.apache.flink.table.api.internal.TableEnvironmentImpl.sqlQuery(TableEnvironmentImpl.java:708)\n\tat java.base/jdk.internal.reflect.DirectMethodHandleAccessor.invoke(DirectMethodHandleAccessor.java:103)\n\tat java.base/java.lang.reflect.Method.invoke(Method.java:580)\n\tat org.apache.flink.api.python.shaded.py4j.reflection.MethodInvoker.invoke(MethodInvoker.java:244)\n\tat org.apache.flink.api.python.shaded.py4j.reflection.ReflectionEngine.invoke(ReflectionEngine.java:374)\n\tat org.apache.flink.api.python.shaded.py4j.Gateway.invoke(Gateway.java:282)\n\tat org.apache.flink.api.python.shaded.py4j.commands.AbstractCommand.invokeMethod(AbstractCommand.java:132)\n\tat org.apache.flink.api.python.shaded.py4j.commands.CallCommand.execute(CallCommand.java:79)\n\tat org.apache.flink.api.python.shaded.py4j.GatewayConnection.run(GatewayConnection.java:238)\n\tat java.base/java.lang.Thread.run(Thread.java:1575)\nCaused by: org.apache.calcite.sql.parser.SqlParseException: Encountered \"(\" at line 6, column 30.\nWas expecting one of:\n    <EOF> \n    \"EXCEPT\" ...\n    \"FETCH\" ...\n    \"FROM\" ...\n    \"INTERSECT\" ...\n    \"LIMIT\" ...\n    \"OFFSET\" ...\n    \"ORDER\" ...\n    \"MINUS\" ...\n    \"UNION\" ...\n    \";\" ...\n    \",\" ...\n    \n\tat org.apache.flink.sql.parser.impl.FlinkSqlParserImpl.convertException(FlinkSqlParserImpl.java:539)\n\tat org.apache.flink.sql.parser.impl.FlinkSqlParserImpl.normalizeException(FlinkSqlParserImpl.java:292)\n\tat org.apache.calcite.sql.parser.SqlParser.handleException(SqlParser.java:156)\n\tat org.apache.calcite.sql.parser.SqlParser.parseStmtList(SqlParser.java:211)\n\tat org.apache.flink.table.planner.parse.CalciteParser.parseSqlList(CalciteParser.java:76)\n\t... 11 more\nCaused by: org.apache.flink.sql.parser.impl.ParseException: Encountered \"(\" at line 6, column 30.\nWas expecting one of:\n    <EOF> \n    \"EXCEPT\" ...\n    \"FETCH\" ...\n    \"FROM\" ...\n    \"INTERSECT\" ...\n    \"LIMIT\" ...\n    \"OFFSET\" ...\n    \"ORDER\" ...\n    \"MINUS\" ...\n    \"UNION\" ...\n    \";\" ...\n    \",\" ...\n    \n\tat org.apache.flink.sql.parser.impl.FlinkSqlParserImpl.generateParseException(FlinkSqlParserImpl.java:50082)\n\tat org.apache.flink.sql.parser.impl.FlinkSqlParserImpl.jj_consume_token(FlinkSqlParserImpl.java:49890)\n\tat org.apache.flink.sql.parser.impl.FlinkSqlParserImpl.SqlStmtList(FlinkSqlParserImpl.java:3706)\n\tat org.apache.flink.sql.parser.impl.FlinkSqlParserImpl.parseSqlStmtList(FlinkSqlParserImpl.java:348)\n\tat org.apache.calcite.sql.parser.SqlParser.parseStmtList(SqlParser.java:209)\n\t... 12 more\n"
     ]
    }
   ],
   "source": [
    "aggregated = t_env.sql_query(\"\"\"\n",
    "    SELECT\n",
    "        name_coin,\n",
    "        TUMBLE_START(proc_time, INTERVAL '1' MINUTE) AS current_minute,\n",
    "        AVG(`open`) AS avg_open,\n",
    "        tiny_time as PROCTIME()\n",
    "    FROM bitcoin_table4\n",
    "    GROUP BY\n",
    "        name_coin,\n",
    "        TUMBLE(proc_time, INTERVAL '1' MINUTE),\n",
    "        tiny_time\n",
    "\"\"\")\n",
    "\n",
    "t_env.create_temporary_view(\"aggregated_view\", aggregated)"
   ]
  },
  {
   "cell_type": "code",
   "execution_count": 6,
   "metadata": {},
   "outputs": [
    {
     "name": "stdout",
     "output_type": "stream",
     "text": [
      "(\n",
      "  `name_coin` STRING,\n",
      "  `current_minute` TIMESTAMP(3) NOT NULL,\n",
      "  `avg_open` FLOAT,\n",
      "  `proc_time` TIMESTAMP_LTZ(3) NOT NULL *PROCTIME*\n",
      ")\n"
     ]
    }
   ],
   "source": [
    "t_env.from_path(\"aggregated_view\").print_schema()"
   ]
  },
  {
   "cell_type": "code",
   "execution_count": 8,
   "metadata": {},
   "outputs": [
    {
     "ename": "TableException",
     "evalue": "org.apache.flink.table.api.TableException: OVER windows' ordering in stream mode must be defined on a time attribute.\n\tat org.apache.flink.table.planner.plan.nodes.exec.stream.StreamExecOverAggregate.translateToPlanInternal(StreamExecOverAggregate.java:175)\n\tat org.apache.flink.table.planner.plan.nodes.exec.ExecNodeBase.translateToPlan(ExecNodeBase.java:168)\n\tat org.apache.flink.table.planner.plan.nodes.exec.ExecEdge.translateToPlan(ExecEdge.java:259)\n\tat org.apache.flink.table.planner.plan.nodes.exec.common.CommonExecCalc.translateToPlanInternal(CommonExecCalc.java:94)\n\tat org.apache.flink.table.planner.plan.nodes.exec.ExecNodeBase.translateToPlan(ExecNodeBase.java:168)\n\tat org.apache.flink.table.planner.plan.nodes.exec.ExecEdge.translateToPlan(ExecEdge.java:259)\n\tat org.apache.flink.table.planner.plan.nodes.exec.stream.StreamExecSink.translateToPlanInternal(StreamExecSink.java:177)\n\tat org.apache.flink.table.planner.plan.nodes.exec.ExecNodeBase.translateToPlan(ExecNodeBase.java:168)\n\tat org.apache.flink.table.planner.delegation.StreamPlanner.$anonfun$translateToPlan$1(StreamPlanner.scala:85)\n\tat scala.collection.TraversableLike.$anonfun$map$1(TraversableLike.scala:233)\n\tat scala.collection.Iterator.foreach(Iterator.scala:937)\n\tat scala.collection.Iterator.foreach$(Iterator.scala:937)\n\tat scala.collection.AbstractIterator.foreach(Iterator.scala:1425)\n\tat scala.collection.IterableLike.foreach(IterableLike.scala:70)\n\tat scala.collection.IterableLike.foreach$(IterableLike.scala:69)\n\tat scala.collection.AbstractIterable.foreach(Iterable.scala:54)\n\tat scala.collection.TraversableLike.map(TraversableLike.scala:233)\n\tat scala.collection.TraversableLike.map$(TraversableLike.scala:226)\n\tat scala.collection.AbstractTraversable.map(Traversable.scala:104)\n\tat org.apache.flink.table.planner.delegation.StreamPlanner.translateToPlan(StreamPlanner.scala:84)\n\tat org.apache.flink.table.planner.delegation.PlannerBase.translate(PlannerBase.scala:180)\n\tat org.apache.flink.table.api.internal.TableEnvironmentImpl.translate(TableEnvironmentImpl.java:1308)\n\tat org.apache.flink.table.api.internal.TableEnvironmentImpl.executeInternal(TableEnvironmentImpl.java:1133)\n\tat org.apache.flink.table.api.internal.TableEnvironmentImpl.executeSql(TableEnvironmentImpl.java:735)\n\tat java.base/jdk.internal.reflect.DirectMethodHandleAccessor.invoke(DirectMethodHandleAccessor.java:103)\n\tat java.base/java.lang.reflect.Method.invoke(Method.java:580)\n\tat org.apache.flink.api.python.shaded.py4j.reflection.MethodInvoker.invoke(MethodInvoker.java:244)\n\tat org.apache.flink.api.python.shaded.py4j.reflection.ReflectionEngine.invoke(ReflectionEngine.java:374)\n\tat org.apache.flink.api.python.shaded.py4j.Gateway.invoke(Gateway.java:282)\n\tat org.apache.flink.api.python.shaded.py4j.commands.AbstractCommand.invokeMethod(AbstractCommand.java:132)\n\tat org.apache.flink.api.python.shaded.py4j.commands.CallCommand.execute(CallCommand.java:79)\n\tat org.apache.flink.api.python.shaded.py4j.GatewayConnection.run(GatewayConnection.java:238)\n\tat java.base/java.lang.Thread.run(Thread.java:1575)\n",
     "output_type": "error",
     "traceback": [
      "\u001b[0;31m---------------------------------------------------------------------------\u001b[0m",
      "\u001b[0;31mTableException\u001b[0m                            Traceback (most recent call last)",
      "Cell \u001b[0;32mIn[8], line 1\u001b[0m\n\u001b[0;32m----> 1\u001b[0m result \u001b[38;5;241m=\u001b[39m \u001b[43mt_env\u001b[49m\u001b[38;5;241;43m.\u001b[39;49m\u001b[43mexecute_sql\u001b[49m\u001b[43m(\u001b[49m\u001b[38;5;124;43m\"\"\"\u001b[39;49m\n\u001b[1;32m      2\u001b[0m \u001b[38;5;124;43m    SELECT \u001b[39;49m\n\u001b[1;32m      3\u001b[0m \u001b[38;5;124;43m        name_coin,\u001b[39;49m\n\u001b[1;32m      4\u001b[0m \u001b[38;5;124;43m        current_minute,\u001b[39;49m\n\u001b[1;32m      5\u001b[0m \u001b[38;5;124;43m        avg_open,\u001b[39;49m\n\u001b[1;32m      6\u001b[0m \u001b[38;5;124;43m        LAG(avg_open, 1) OVER (\u001b[39;49m\n\u001b[1;32m      7\u001b[0m \u001b[38;5;124;43m            PARTITION BY name_coin \u001b[39;49m\n\u001b[1;32m      8\u001b[0m \u001b[38;5;124;43m            ORDER BY proc_time\u001b[39;49m\n\u001b[1;32m      9\u001b[0m \u001b[38;5;124;43m        ) AS prev_avg_open,\u001b[39;49m\n\u001b[1;32m     10\u001b[0m \u001b[38;5;124;43m        (avg_open - LAG(avg_open, 1) OVER (\u001b[39;49m\n\u001b[1;32m     11\u001b[0m \u001b[38;5;124;43m            PARTITION BY name_coin \u001b[39;49m\n\u001b[1;32m     12\u001b[0m \u001b[38;5;124;43m            ORDER BY proc_time\u001b[39;49m\n\u001b[1;32m     13\u001b[0m \u001b[38;5;124;43m        )) AS diff_avg_open\u001b[39;49m\n\u001b[1;32m     14\u001b[0m \u001b[38;5;124;43m    FROM aggregated_view\u001b[39;49m\n\u001b[1;32m     15\u001b[0m \u001b[38;5;124;43m\"\"\"\u001b[39;49m\u001b[43m)\u001b[49m\n\u001b[1;32m     17\u001b[0m \u001b[38;5;66;03m# Collect or print the result\u001b[39;00m\n\u001b[1;32m     18\u001b[0m result_table \u001b[38;5;241m=\u001b[39m result\u001b[38;5;241m.\u001b[39mprint_schema()\n",
      "File \u001b[0;32m~/DataEng/.venv/lib/python3.10/site-packages/pyflink/table/table_environment.py:837\u001b[0m, in \u001b[0;36mTableEnvironment.execute_sql\u001b[0;34m(self, stmt)\u001b[0m\n\u001b[1;32m    823\u001b[0m \u001b[38;5;250m\u001b[39m\u001b[38;5;124;03m\"\"\"\u001b[39;00m\n\u001b[1;32m    824\u001b[0m \u001b[38;5;124;03mExecute the given single statement, and return the execution result.\u001b[39;00m\n\u001b[1;32m    825\u001b[0m \n\u001b[0;32m   (...)\u001b[0m\n\u001b[1;32m    834\u001b[0m \u001b[38;5;124;03m.. versionadded:: 1.11.0\u001b[39;00m\n\u001b[1;32m    835\u001b[0m \u001b[38;5;124;03m\"\"\"\u001b[39;00m\n\u001b[1;32m    836\u001b[0m \u001b[38;5;28mself\u001b[39m\u001b[38;5;241m.\u001b[39m_before_execute()\n\u001b[0;32m--> 837\u001b[0m \u001b[38;5;28;01mreturn\u001b[39;00m TableResult(\u001b[38;5;28;43mself\u001b[39;49m\u001b[38;5;241;43m.\u001b[39;49m\u001b[43m_j_tenv\u001b[49m\u001b[38;5;241;43m.\u001b[39;49m\u001b[43mexecuteSql\u001b[49m\u001b[43m(\u001b[49m\u001b[43mstmt\u001b[49m\u001b[43m)\u001b[49m)\n",
      "File \u001b[0;32m~/DataEng/.venv/lib/python3.10/site-packages/py4j/java_gateway.py:1322\u001b[0m, in \u001b[0;36mJavaMember.__call__\u001b[0;34m(self, *args)\u001b[0m\n\u001b[1;32m   1316\u001b[0m command \u001b[38;5;241m=\u001b[39m proto\u001b[38;5;241m.\u001b[39mCALL_COMMAND_NAME \u001b[38;5;241m+\u001b[39m\\\n\u001b[1;32m   1317\u001b[0m     \u001b[38;5;28mself\u001b[39m\u001b[38;5;241m.\u001b[39mcommand_header \u001b[38;5;241m+\u001b[39m\\\n\u001b[1;32m   1318\u001b[0m     args_command \u001b[38;5;241m+\u001b[39m\\\n\u001b[1;32m   1319\u001b[0m     proto\u001b[38;5;241m.\u001b[39mEND_COMMAND_PART\n\u001b[1;32m   1321\u001b[0m answer \u001b[38;5;241m=\u001b[39m \u001b[38;5;28mself\u001b[39m\u001b[38;5;241m.\u001b[39mgateway_client\u001b[38;5;241m.\u001b[39msend_command(command)\n\u001b[0;32m-> 1322\u001b[0m return_value \u001b[38;5;241m=\u001b[39m \u001b[43mget_return_value\u001b[49m\u001b[43m(\u001b[49m\n\u001b[1;32m   1323\u001b[0m \u001b[43m    \u001b[49m\u001b[43manswer\u001b[49m\u001b[43m,\u001b[49m\u001b[43m \u001b[49m\u001b[38;5;28;43mself\u001b[39;49m\u001b[38;5;241;43m.\u001b[39;49m\u001b[43mgateway_client\u001b[49m\u001b[43m,\u001b[49m\u001b[43m \u001b[49m\u001b[38;5;28;43mself\u001b[39;49m\u001b[38;5;241;43m.\u001b[39;49m\u001b[43mtarget_id\u001b[49m\u001b[43m,\u001b[49m\u001b[43m \u001b[49m\u001b[38;5;28;43mself\u001b[39;49m\u001b[38;5;241;43m.\u001b[39;49m\u001b[43mname\u001b[49m\u001b[43m)\u001b[49m\n\u001b[1;32m   1325\u001b[0m \u001b[38;5;28;01mfor\u001b[39;00m temp_arg \u001b[38;5;129;01min\u001b[39;00m temp_args:\n\u001b[1;32m   1326\u001b[0m     \u001b[38;5;28;01mif\u001b[39;00m \u001b[38;5;28mhasattr\u001b[39m(temp_arg, \u001b[38;5;124m\"\u001b[39m\u001b[38;5;124m_detach\u001b[39m\u001b[38;5;124m\"\u001b[39m):\n",
      "File \u001b[0;32m~/DataEng/.venv/lib/python3.10/site-packages/pyflink/util/exceptions.py:158\u001b[0m, in \u001b[0;36mcapture_java_exception.<locals>.deco\u001b[0;34m(*a, **kw)\u001b[0m\n\u001b[1;32m    156\u001b[0m     \u001b[38;5;28;01melse\u001b[39;00m:\n\u001b[1;32m    157\u001b[0m         \u001b[38;5;28;01mraise\u001b[39;00m\n\u001b[0;32m--> 158\u001b[0m \u001b[38;5;28;01mraise\u001b[39;00m java_exception\n",
      "\u001b[0;31mTableException\u001b[0m: org.apache.flink.table.api.TableException: OVER windows' ordering in stream mode must be defined on a time attribute.\n\tat org.apache.flink.table.planner.plan.nodes.exec.stream.StreamExecOverAggregate.translateToPlanInternal(StreamExecOverAggregate.java:175)\n\tat org.apache.flink.table.planner.plan.nodes.exec.ExecNodeBase.translateToPlan(ExecNodeBase.java:168)\n\tat org.apache.flink.table.planner.plan.nodes.exec.ExecEdge.translateToPlan(ExecEdge.java:259)\n\tat org.apache.flink.table.planner.plan.nodes.exec.common.CommonExecCalc.translateToPlanInternal(CommonExecCalc.java:94)\n\tat org.apache.flink.table.planner.plan.nodes.exec.ExecNodeBase.translateToPlan(ExecNodeBase.java:168)\n\tat org.apache.flink.table.planner.plan.nodes.exec.ExecEdge.translateToPlan(ExecEdge.java:259)\n\tat org.apache.flink.table.planner.plan.nodes.exec.stream.StreamExecSink.translateToPlanInternal(StreamExecSink.java:177)\n\tat org.apache.flink.table.planner.plan.nodes.exec.ExecNodeBase.translateToPlan(ExecNodeBase.java:168)\n\tat org.apache.flink.table.planner.delegation.StreamPlanner.$anonfun$translateToPlan$1(StreamPlanner.scala:85)\n\tat scala.collection.TraversableLike.$anonfun$map$1(TraversableLike.scala:233)\n\tat scala.collection.Iterator.foreach(Iterator.scala:937)\n\tat scala.collection.Iterator.foreach$(Iterator.scala:937)\n\tat scala.collection.AbstractIterator.foreach(Iterator.scala:1425)\n\tat scala.collection.IterableLike.foreach(IterableLike.scala:70)\n\tat scala.collection.IterableLike.foreach$(IterableLike.scala:69)\n\tat scala.collection.AbstractIterable.foreach(Iterable.scala:54)\n\tat scala.collection.TraversableLike.map(TraversableLike.scala:233)\n\tat scala.collection.TraversableLike.map$(TraversableLike.scala:226)\n\tat scala.collection.AbstractTraversable.map(Traversable.scala:104)\n\tat org.apache.flink.table.planner.delegation.StreamPlanner.translateToPlan(StreamPlanner.scala:84)\n\tat org.apache.flink.table.planner.delegation.PlannerBase.translate(PlannerBase.scala:180)\n\tat org.apache.flink.table.api.internal.TableEnvironmentImpl.translate(TableEnvironmentImpl.java:1308)\n\tat org.apache.flink.table.api.internal.TableEnvironmentImpl.executeInternal(TableEnvironmentImpl.java:1133)\n\tat org.apache.flink.table.api.internal.TableEnvironmentImpl.executeSql(TableEnvironmentImpl.java:735)\n\tat java.base/jdk.internal.reflect.DirectMethodHandleAccessor.invoke(DirectMethodHandleAccessor.java:103)\n\tat java.base/java.lang.reflect.Method.invoke(Method.java:580)\n\tat org.apache.flink.api.python.shaded.py4j.reflection.MethodInvoker.invoke(MethodInvoker.java:244)\n\tat org.apache.flink.api.python.shaded.py4j.reflection.ReflectionEngine.invoke(ReflectionEngine.java:374)\n\tat org.apache.flink.api.python.shaded.py4j.Gateway.invoke(Gateway.java:282)\n\tat org.apache.flink.api.python.shaded.py4j.commands.AbstractCommand.invokeMethod(AbstractCommand.java:132)\n\tat org.apache.flink.api.python.shaded.py4j.commands.CallCommand.execute(CallCommand.java:79)\n\tat org.apache.flink.api.python.shaded.py4j.GatewayConnection.run(GatewayConnection.java:238)\n\tat java.base/java.lang.Thread.run(Thread.java:1575)\n"
     ]
    }
   ],
   "source": [
    "result = t_env.execute_sql(\"\"\"\n",
    "    SELECT \n",
    "        name_coin,\n",
    "        current_minute,\n",
    "        avg_open,\n",
    "        LAG(avg_open, 1) OVER (\n",
    "            PARTITION BY name_coin \n",
    "            ORDER BY proc_time\n",
    "        ) AS prev_avg_open,\n",
    "        (avg_open - LAG(avg_open, 1) OVER (\n",
    "            PARTITION BY name_coin \n",
    "            ORDER BY proc_time\n",
    "        )) AS diff_avg_open\n",
    "    FROM aggregated_view\n",
    "\"\"\")\n",
    "\n",
    "# Collect or print the result\n",
    "result_table = result.print_schema()\n",
    "result_table.print()"
   ]
  },
  {
   "cell_type": "code",
   "execution_count": 12,
   "metadata": {},
   "outputs": [],
   "source": [
    "revenue = source_table \\\n",
    "    .window(Tumble.over(expr.lit(1).minute).on(col(\"proc_time\")).alias(\"w\"))\\\n",
    "    .group_by(col('name_coin'),col('w'))\\\n",
    "    .select(\n",
    "        col('name_coin'),\n",
    "        col('w').start.alias('rounded_minute'), \n",
    "        call(\"avg\", col(\"open\")).alias('avg_open')\n",
    ")"
   ]
  },
  {
   "cell_type": "code",
   "execution_count": 13,
   "metadata": {},
   "outputs": [
    {
     "data": {
      "text/plain": [
       "['bitcoin_sink', 'bitcoin_table4']"
      ]
     },
     "execution_count": 13,
     "metadata": {},
     "output_type": "execute_result"
    }
   ],
   "source": [
    "t_env.list_tables()"
   ]
  },
  {
   "cell_type": "code",
   "execution_count": 13,
   "metadata": {},
   "outputs": [
    {
     "name": "stderr",
     "output_type": "stream",
     "text": [
      "ERROR:root:KeyboardInterrupt while sending command.\n",
      "Traceback (most recent call last):\n",
      "  File \"/Users/gerardomartinez/DataEng/.venv/lib/python3.10/site-packages/py4j/java_gateway.py\", line 1038, in send_command\n",
      "    response = connection.send_command(command)\n",
      "  File \"/Users/gerardomartinez/DataEng/.venv/lib/python3.10/site-packages/py4j/java_gateway.py\", line 1217, in send_command\n",
      "    answer = smart_decode(self.stream.readline()[:-1])\n",
      "  File \"/Users/gerardomartinez/.pyenv/versions/3.10.4/lib/python3.10/socket.py\", line 705, in readinto\n",
      "    return self._sock.recv_into(b)\n",
      "KeyboardInterrupt\n"
     ]
    },
    {
     "ename": "KeyboardInterrupt",
     "evalue": "",
     "output_type": "error",
     "traceback": [
      "\u001b[0;31m---------------------------------------------------------------------------\u001b[0m",
      "\u001b[0;31mKeyboardInterrupt\u001b[0m                         Traceback (most recent call last)",
      "Cell \u001b[0;32mIn[13], line 14\u001b[0m\n\u001b[1;32m      1\u001b[0m \u001b[43mt_env\u001b[49m\u001b[38;5;241;43m.\u001b[39;49m\u001b[43mexecute_sql\u001b[49m\u001b[43m(\u001b[49m\n\u001b[1;32m      2\u001b[0m \u001b[38;5;250;43m    \u001b[39;49m\u001b[38;5;124;43;03m\"\"\"\u001b[39;49;00m\n\u001b[1;32m      3\u001b[0m \u001b[38;5;124;43;03m      SELECT \u001b[39;49;00m\n\u001b[1;32m      4\u001b[0m \u001b[38;5;124;43;03m        name_coin,\u001b[39;49;00m\n\u001b[1;32m      5\u001b[0m \u001b[38;5;124;43;03m        `timestamp`,\u001b[39;49;00m\n\u001b[1;32m      6\u001b[0m \u001b[38;5;124;43;03m        TUMBLE_START(`timestamp`, INTERVAL '1' MINUTE) AS rounded_minute,\u001b[39;49;00m\n\u001b[1;32m      7\u001b[0m \u001b[38;5;124;43;03m        AVG(`open`) AS avg_open\u001b[39;49;00m\n\u001b[1;32m      8\u001b[0m \u001b[38;5;124;43;03m    FROM bitcoin_table4\u001b[39;49;00m\n\u001b[1;32m      9\u001b[0m \u001b[38;5;124;43;03m    GROUP BY \u001b[39;49;00m\n\u001b[1;32m     10\u001b[0m \u001b[38;5;124;43;03m        name_coin,\u001b[39;49;00m\n\u001b[1;32m     11\u001b[0m \u001b[38;5;124;43;03m        `timestamp`,\u001b[39;49;00m\n\u001b[1;32m     12\u001b[0m \u001b[38;5;124;43;03m        TUMBLE(`timestamp`, INTERVAL '1' MINUTE)\u001b[39;49;00m\n\u001b[1;32m     13\u001b[0m \u001b[38;5;124;43;03m    \"\"\"\u001b[39;49;00m\n\u001b[0;32m---> 14\u001b[0m \u001b[43m)\u001b[49m\u001b[38;5;241;43m.\u001b[39;49m\u001b[43mprint\u001b[49m\u001b[43m(\u001b[49m\u001b[43m)\u001b[49m\n",
      "File \u001b[0;32m~/DataEng/.venv/lib/python3.10/site-packages/pyflink/table/table_result.py:219\u001b[0m, in \u001b[0;36mTableResult.print\u001b[0;34m(self)\u001b[0m\n\u001b[1;32m    198\u001b[0m \u001b[38;5;28;01mdef\u001b[39;00m\u001b[38;5;250m \u001b[39m\u001b[38;5;21mprint\u001b[39m(\u001b[38;5;28mself\u001b[39m):\n\u001b[1;32m    199\u001b[0m \u001b[38;5;250m    \u001b[39m\u001b[38;5;124;03m\"\"\"\u001b[39;00m\n\u001b[1;32m    200\u001b[0m \u001b[38;5;124;03m    Print the result contents as tableau form to client console.\u001b[39;00m\n\u001b[1;32m    201\u001b[0m \n\u001b[0;32m   (...)\u001b[0m\n\u001b[1;32m    217\u001b[0m \u001b[38;5;124;03m    .. versionadded:: 1.11.0\u001b[39;00m\n\u001b[1;32m    218\u001b[0m \u001b[38;5;124;03m    \"\"\"\u001b[39;00m\n\u001b[0;32m--> 219\u001b[0m     \u001b[38;5;28;43mself\u001b[39;49m\u001b[38;5;241;43m.\u001b[39;49m\u001b[43m_j_table_result\u001b[49m\u001b[38;5;241;43m.\u001b[39;49m\u001b[43mprint\u001b[49m\u001b[43m(\u001b[49m\u001b[43m)\u001b[49m\n",
      "File \u001b[0;32m~/DataEng/.venv/lib/python3.10/site-packages/py4j/java_gateway.py:1321\u001b[0m, in \u001b[0;36mJavaMember.__call__\u001b[0;34m(self, *args)\u001b[0m\n\u001b[1;32m   1314\u001b[0m args_command, temp_args \u001b[38;5;241m=\u001b[39m \u001b[38;5;28mself\u001b[39m\u001b[38;5;241m.\u001b[39m_build_args(\u001b[38;5;241m*\u001b[39margs)\n\u001b[1;32m   1316\u001b[0m command \u001b[38;5;241m=\u001b[39m proto\u001b[38;5;241m.\u001b[39mCALL_COMMAND_NAME \u001b[38;5;241m+\u001b[39m\\\n\u001b[1;32m   1317\u001b[0m     \u001b[38;5;28mself\u001b[39m\u001b[38;5;241m.\u001b[39mcommand_header \u001b[38;5;241m+\u001b[39m\\\n\u001b[1;32m   1318\u001b[0m     args_command \u001b[38;5;241m+\u001b[39m\\\n\u001b[1;32m   1319\u001b[0m     proto\u001b[38;5;241m.\u001b[39mEND_COMMAND_PART\n\u001b[0;32m-> 1321\u001b[0m answer \u001b[38;5;241m=\u001b[39m \u001b[38;5;28;43mself\u001b[39;49m\u001b[38;5;241;43m.\u001b[39;49m\u001b[43mgateway_client\u001b[49m\u001b[38;5;241;43m.\u001b[39;49m\u001b[43msend_command\u001b[49m\u001b[43m(\u001b[49m\u001b[43mcommand\u001b[49m\u001b[43m)\u001b[49m\n\u001b[1;32m   1322\u001b[0m return_value \u001b[38;5;241m=\u001b[39m get_return_value(\n\u001b[1;32m   1323\u001b[0m     answer, \u001b[38;5;28mself\u001b[39m\u001b[38;5;241m.\u001b[39mgateway_client, \u001b[38;5;28mself\u001b[39m\u001b[38;5;241m.\u001b[39mtarget_id, \u001b[38;5;28mself\u001b[39m\u001b[38;5;241m.\u001b[39mname)\n\u001b[1;32m   1325\u001b[0m \u001b[38;5;28;01mfor\u001b[39;00m temp_arg \u001b[38;5;129;01min\u001b[39;00m temp_args:\n",
      "File \u001b[0;32m~/DataEng/.venv/lib/python3.10/site-packages/py4j/java_gateway.py:1038\u001b[0m, in \u001b[0;36mGatewayClient.send_command\u001b[0;34m(self, command, retry, binary)\u001b[0m\n\u001b[1;32m   1036\u001b[0m connection \u001b[38;5;241m=\u001b[39m \u001b[38;5;28mself\u001b[39m\u001b[38;5;241m.\u001b[39m_get_connection()\n\u001b[1;32m   1037\u001b[0m \u001b[38;5;28;01mtry\u001b[39;00m:\n\u001b[0;32m-> 1038\u001b[0m     response \u001b[38;5;241m=\u001b[39m \u001b[43mconnection\u001b[49m\u001b[38;5;241;43m.\u001b[39;49m\u001b[43msend_command\u001b[49m\u001b[43m(\u001b[49m\u001b[43mcommand\u001b[49m\u001b[43m)\u001b[49m\n\u001b[1;32m   1039\u001b[0m     \u001b[38;5;28;01mif\u001b[39;00m binary:\n\u001b[1;32m   1040\u001b[0m         \u001b[38;5;28;01mreturn\u001b[39;00m response, \u001b[38;5;28mself\u001b[39m\u001b[38;5;241m.\u001b[39m_create_connection_guard(connection)\n",
      "File \u001b[0;32m~/DataEng/.venv/lib/python3.10/site-packages/py4j/java_gateway.py:1217\u001b[0m, in \u001b[0;36mGatewayConnection.send_command\u001b[0;34m(self, command)\u001b[0m\n\u001b[1;32m   1213\u001b[0m     \u001b[38;5;28;01mraise\u001b[39;00m Py4JNetworkError(\n\u001b[1;32m   1214\u001b[0m         \u001b[38;5;124m\"\u001b[39m\u001b[38;5;124mError while sending\u001b[39m\u001b[38;5;124m\"\u001b[39m, e, proto\u001b[38;5;241m.\u001b[39mERROR_ON_SEND)\n\u001b[1;32m   1216\u001b[0m \u001b[38;5;28;01mtry\u001b[39;00m:\n\u001b[0;32m-> 1217\u001b[0m     answer \u001b[38;5;241m=\u001b[39m smart_decode(\u001b[38;5;28;43mself\u001b[39;49m\u001b[38;5;241;43m.\u001b[39;49m\u001b[43mstream\u001b[49m\u001b[38;5;241;43m.\u001b[39;49m\u001b[43mreadline\u001b[49m\u001b[43m(\u001b[49m\u001b[43m)\u001b[49m[:\u001b[38;5;241m-\u001b[39m\u001b[38;5;241m1\u001b[39m])\n\u001b[1;32m   1218\u001b[0m     logger\u001b[38;5;241m.\u001b[39mdebug(\u001b[38;5;124m\"\u001b[39m\u001b[38;5;124mAnswer received: \u001b[39m\u001b[38;5;132;01m{0}\u001b[39;00m\u001b[38;5;124m\"\u001b[39m\u001b[38;5;241m.\u001b[39mformat(answer))\n\u001b[1;32m   1219\u001b[0m     \u001b[38;5;28;01mif\u001b[39;00m answer\u001b[38;5;241m.\u001b[39mstartswith(proto\u001b[38;5;241m.\u001b[39mRETURN_MESSAGE):\n",
      "File \u001b[0;32m~/.pyenv/versions/3.10.4/lib/python3.10/socket.py:705\u001b[0m, in \u001b[0;36mSocketIO.readinto\u001b[0;34m(self, b)\u001b[0m\n\u001b[1;32m    703\u001b[0m \u001b[38;5;28;01mwhile\u001b[39;00m \u001b[38;5;28;01mTrue\u001b[39;00m:\n\u001b[1;32m    704\u001b[0m     \u001b[38;5;28;01mtry\u001b[39;00m:\n\u001b[0;32m--> 705\u001b[0m         \u001b[38;5;28;01mreturn\u001b[39;00m \u001b[38;5;28;43mself\u001b[39;49m\u001b[38;5;241;43m.\u001b[39;49m\u001b[43m_sock\u001b[49m\u001b[38;5;241;43m.\u001b[39;49m\u001b[43mrecv_into\u001b[49m\u001b[43m(\u001b[49m\u001b[43mb\u001b[49m\u001b[43m)\u001b[49m\n\u001b[1;32m    706\u001b[0m     \u001b[38;5;28;01mexcept\u001b[39;00m timeout:\n\u001b[1;32m    707\u001b[0m         \u001b[38;5;28mself\u001b[39m\u001b[38;5;241m.\u001b[39m_timeout_occurred \u001b[38;5;241m=\u001b[39m \u001b[38;5;28;01mTrue\u001b[39;00m\n",
      "\u001b[0;31mKeyboardInterrupt\u001b[0m: "
     ]
    }
   ],
   "source": [
    "t_env.execute_sql(\n",
    "    \"\"\"\n",
    "      SELECT \n",
    "        name_coin,\n",
    "        `timestamp`,\n",
    "        TUMBLE_START(`timestamp`, INTERVAL '1' MINUTE) AS rounded_minute,\n",
    "        AVG(`open`) AS avg_open\n",
    "    FROM bitcoin_table4\n",
    "    GROUP BY \n",
    "        name_coin,\n",
    "        `timestamp`,\n",
    "        TUMBLE(`timestamp`, INTERVAL '1' MINUTE)\n",
    "    \"\"\"\n",
    ").print()"
   ]
  },
  {
   "cell_type": "code",
   "execution_count": 11,
   "metadata": {},
   "outputs": [
    {
     "ename": "TableException",
     "evalue": "org.apache.flink.table.api.TableException: OVER windows' ordering in stream mode must be defined on a time attribute.\n\tat org.apache.flink.table.planner.plan.nodes.exec.stream.StreamExecOverAggregate.translateToPlanInternal(StreamExecOverAggregate.java:175)\n\tat org.apache.flink.table.planner.plan.nodes.exec.ExecNodeBase.translateToPlan(ExecNodeBase.java:168)\n\tat org.apache.flink.table.planner.plan.nodes.exec.ExecEdge.translateToPlan(ExecEdge.java:259)\n\tat org.apache.flink.table.planner.plan.nodes.exec.common.CommonExecCalc.translateToPlanInternal(CommonExecCalc.java:94)\n\tat org.apache.flink.table.planner.plan.nodes.exec.ExecNodeBase.translateToPlan(ExecNodeBase.java:168)\n\tat org.apache.flink.table.planner.plan.nodes.exec.ExecEdge.translateToPlan(ExecEdge.java:259)\n\tat org.apache.flink.table.planner.plan.nodes.exec.stream.StreamExecSink.translateToPlanInternal(StreamExecSink.java:177)\n\tat org.apache.flink.table.planner.plan.nodes.exec.ExecNodeBase.translateToPlan(ExecNodeBase.java:168)\n\tat org.apache.flink.table.planner.delegation.StreamPlanner.$anonfun$translateToPlan$1(StreamPlanner.scala:85)\n\tat scala.collection.TraversableLike.$anonfun$map$1(TraversableLike.scala:233)\n\tat scala.collection.Iterator.foreach(Iterator.scala:937)\n\tat scala.collection.Iterator.foreach$(Iterator.scala:937)\n\tat scala.collection.AbstractIterator.foreach(Iterator.scala:1425)\n\tat scala.collection.IterableLike.foreach(IterableLike.scala:70)\n\tat scala.collection.IterableLike.foreach$(IterableLike.scala:69)\n\tat scala.collection.AbstractIterable.foreach(Iterable.scala:54)\n\tat scala.collection.TraversableLike.map(TraversableLike.scala:233)\n\tat scala.collection.TraversableLike.map$(TraversableLike.scala:226)\n\tat scala.collection.AbstractTraversable.map(Traversable.scala:104)\n\tat org.apache.flink.table.planner.delegation.StreamPlanner.translateToPlan(StreamPlanner.scala:84)\n\tat org.apache.flink.table.planner.delegation.PlannerBase.translate(PlannerBase.scala:180)\n\tat org.apache.flink.table.api.internal.TableEnvironmentImpl.translate(TableEnvironmentImpl.java:1308)\n\tat org.apache.flink.table.api.internal.TableEnvironmentImpl.executeInternal(TableEnvironmentImpl.java:1133)\n\tat org.apache.flink.table.api.internal.TableEnvironmentImpl.executeSql(TableEnvironmentImpl.java:735)\n\tat java.base/jdk.internal.reflect.DirectMethodHandleAccessor.invoke(DirectMethodHandleAccessor.java:103)\n\tat java.base/java.lang.reflect.Method.invoke(Method.java:580)\n\tat org.apache.flink.api.python.shaded.py4j.reflection.MethodInvoker.invoke(MethodInvoker.java:244)\n\tat org.apache.flink.api.python.shaded.py4j.reflection.ReflectionEngine.invoke(ReflectionEngine.java:374)\n\tat org.apache.flink.api.python.shaded.py4j.Gateway.invoke(Gateway.java:282)\n\tat org.apache.flink.api.python.shaded.py4j.commands.AbstractCommand.invokeMethod(AbstractCommand.java:132)\n\tat org.apache.flink.api.python.shaded.py4j.commands.CallCommand.execute(CallCommand.java:79)\n\tat org.apache.flink.api.python.shaded.py4j.GatewayConnection.run(GatewayConnection.java:238)\n\tat java.base/java.lang.Thread.run(Thread.java:1575)\n",
     "output_type": "error",
     "traceback": [
      "\u001b[0;31m---------------------------------------------------------------------------\u001b[0m",
      "\u001b[0;31mTableException\u001b[0m                            Traceback (most recent call last)",
      "Cell \u001b[0;32mIn[11], line 1\u001b[0m\n\u001b[0;32m----> 1\u001b[0m \u001b[43mt_env\u001b[49m\u001b[38;5;241;43m.\u001b[39;49m\u001b[43mexecute_sql\u001b[49m\u001b[43m(\u001b[49m\u001b[38;5;124;43m\"\"\"\u001b[39;49m\n\u001b[1;32m      2\u001b[0m \u001b[38;5;124;43mWITH aggregated AS (\u001b[39;49m\n\u001b[1;32m      3\u001b[0m \u001b[38;5;124;43m    SELECT \u001b[39;49m\n\u001b[1;32m      4\u001b[0m \u001b[38;5;124;43m        name_coin,\u001b[39;49m\n\u001b[1;32m      5\u001b[0m \u001b[38;5;124;43m        `timestamp`,\u001b[39;49m\n\u001b[1;32m      6\u001b[0m \u001b[38;5;124;43m        TUMBLE_START(`timestamp`, INTERVAL \u001b[39;49m\u001b[38;5;124;43m'\u001b[39;49m\u001b[38;5;124;43m1\u001b[39;49m\u001b[38;5;124;43m'\u001b[39;49m\u001b[38;5;124;43m MINUTE) AS rounded_minute,\u001b[39;49m\n\u001b[1;32m      7\u001b[0m \u001b[38;5;124;43m        AVG(`open`) AS avg_open\u001b[39;49m\n\u001b[1;32m      8\u001b[0m \u001b[38;5;124;43m    FROM bitcoin_table4\u001b[39;49m\n\u001b[1;32m      9\u001b[0m \u001b[38;5;124;43m    GROUP BY \u001b[39;49m\n\u001b[1;32m     10\u001b[0m \u001b[38;5;124;43m        name_coin,\u001b[39;49m\n\u001b[1;32m     11\u001b[0m \u001b[38;5;124;43m        `timestamp`,\u001b[39;49m\n\u001b[1;32m     12\u001b[0m \u001b[38;5;124;43m        TUMBLE(`timestamp`, INTERVAL \u001b[39;49m\u001b[38;5;124;43m'\u001b[39;49m\u001b[38;5;124;43m1\u001b[39;49m\u001b[38;5;124;43m'\u001b[39;49m\u001b[38;5;124;43m MINUTE)\u001b[39;49m\n\u001b[1;32m     13\u001b[0m \u001b[38;5;124;43m)\u001b[39;49m\n\u001b[1;32m     14\u001b[0m \u001b[38;5;124;43mSELECT \u001b[39;49m\n\u001b[1;32m     15\u001b[0m \u001b[38;5;124;43m    name_coin,\u001b[39;49m\n\u001b[1;32m     16\u001b[0m \u001b[38;5;124;43m    rounded_minute,\u001b[39;49m\n\u001b[1;32m     17\u001b[0m \u001b[38;5;124;43m    avg_open,\u001b[39;49m\n\u001b[1;32m     18\u001b[0m \u001b[38;5;124;43m    LAG(avg_open, 1) OVER (\u001b[39;49m\n\u001b[1;32m     19\u001b[0m \u001b[38;5;124;43m        PARTITION BY name_coin\u001b[39;49m\n\u001b[1;32m     20\u001b[0m \u001b[38;5;124;43m        ORDER BY `timestamp`  -- Use the same event-time attribute here\u001b[39;49m\n\u001b[1;32m     21\u001b[0m \u001b[38;5;124;43m    ) AS prev_avg_open,\u001b[39;49m\n\u001b[1;32m     22\u001b[0m \u001b[38;5;124;43m    avg_open - LAG(avg_open, 1) OVER (\u001b[39;49m\n\u001b[1;32m     23\u001b[0m \u001b[38;5;124;43m        PARTITION BY name_coin\u001b[39;49m\n\u001b[1;32m     24\u001b[0m \u001b[38;5;124;43m        ORDER BY `timestamp`\u001b[39;49m\n\u001b[1;32m     25\u001b[0m \u001b[38;5;124;43m    ) AS diff_avg_open\u001b[39;49m\n\u001b[1;32m     26\u001b[0m \u001b[38;5;124;43mFROM aggregated\u001b[39;49m\n\u001b[1;32m     27\u001b[0m \n\u001b[1;32m     28\u001b[0m \u001b[38;5;124;43m\"\"\"\u001b[39;49m\u001b[43m)\u001b[49m\n",
      "File \u001b[0;32m~/DataEng/.venv/lib/python3.10/site-packages/pyflink/table/table_environment.py:837\u001b[0m, in \u001b[0;36mTableEnvironment.execute_sql\u001b[0;34m(self, stmt)\u001b[0m\n\u001b[1;32m    823\u001b[0m \u001b[38;5;250m\u001b[39m\u001b[38;5;124;03m\"\"\"\u001b[39;00m\n\u001b[1;32m    824\u001b[0m \u001b[38;5;124;03mExecute the given single statement, and return the execution result.\u001b[39;00m\n\u001b[1;32m    825\u001b[0m \n\u001b[0;32m   (...)\u001b[0m\n\u001b[1;32m    834\u001b[0m \u001b[38;5;124;03m.. versionadded:: 1.11.0\u001b[39;00m\n\u001b[1;32m    835\u001b[0m \u001b[38;5;124;03m\"\"\"\u001b[39;00m\n\u001b[1;32m    836\u001b[0m \u001b[38;5;28mself\u001b[39m\u001b[38;5;241m.\u001b[39m_before_execute()\n\u001b[0;32m--> 837\u001b[0m \u001b[38;5;28;01mreturn\u001b[39;00m TableResult(\u001b[38;5;28;43mself\u001b[39;49m\u001b[38;5;241;43m.\u001b[39;49m\u001b[43m_j_tenv\u001b[49m\u001b[38;5;241;43m.\u001b[39;49m\u001b[43mexecuteSql\u001b[49m\u001b[43m(\u001b[49m\u001b[43mstmt\u001b[49m\u001b[43m)\u001b[49m)\n",
      "File \u001b[0;32m~/DataEng/.venv/lib/python3.10/site-packages/py4j/java_gateway.py:1322\u001b[0m, in \u001b[0;36mJavaMember.__call__\u001b[0;34m(self, *args)\u001b[0m\n\u001b[1;32m   1316\u001b[0m command \u001b[38;5;241m=\u001b[39m proto\u001b[38;5;241m.\u001b[39mCALL_COMMAND_NAME \u001b[38;5;241m+\u001b[39m\\\n\u001b[1;32m   1317\u001b[0m     \u001b[38;5;28mself\u001b[39m\u001b[38;5;241m.\u001b[39mcommand_header \u001b[38;5;241m+\u001b[39m\\\n\u001b[1;32m   1318\u001b[0m     args_command \u001b[38;5;241m+\u001b[39m\\\n\u001b[1;32m   1319\u001b[0m     proto\u001b[38;5;241m.\u001b[39mEND_COMMAND_PART\n\u001b[1;32m   1321\u001b[0m answer \u001b[38;5;241m=\u001b[39m \u001b[38;5;28mself\u001b[39m\u001b[38;5;241m.\u001b[39mgateway_client\u001b[38;5;241m.\u001b[39msend_command(command)\n\u001b[0;32m-> 1322\u001b[0m return_value \u001b[38;5;241m=\u001b[39m \u001b[43mget_return_value\u001b[49m\u001b[43m(\u001b[49m\n\u001b[1;32m   1323\u001b[0m \u001b[43m    \u001b[49m\u001b[43manswer\u001b[49m\u001b[43m,\u001b[49m\u001b[43m \u001b[49m\u001b[38;5;28;43mself\u001b[39;49m\u001b[38;5;241;43m.\u001b[39;49m\u001b[43mgateway_client\u001b[49m\u001b[43m,\u001b[49m\u001b[43m \u001b[49m\u001b[38;5;28;43mself\u001b[39;49m\u001b[38;5;241;43m.\u001b[39;49m\u001b[43mtarget_id\u001b[49m\u001b[43m,\u001b[49m\u001b[43m \u001b[49m\u001b[38;5;28;43mself\u001b[39;49m\u001b[38;5;241;43m.\u001b[39;49m\u001b[43mname\u001b[49m\u001b[43m)\u001b[49m\n\u001b[1;32m   1325\u001b[0m \u001b[38;5;28;01mfor\u001b[39;00m temp_arg \u001b[38;5;129;01min\u001b[39;00m temp_args:\n\u001b[1;32m   1326\u001b[0m     \u001b[38;5;28;01mif\u001b[39;00m \u001b[38;5;28mhasattr\u001b[39m(temp_arg, \u001b[38;5;124m\"\u001b[39m\u001b[38;5;124m_detach\u001b[39m\u001b[38;5;124m\"\u001b[39m):\n",
      "File \u001b[0;32m~/DataEng/.venv/lib/python3.10/site-packages/pyflink/util/exceptions.py:158\u001b[0m, in \u001b[0;36mcapture_java_exception.<locals>.deco\u001b[0;34m(*a, **kw)\u001b[0m\n\u001b[1;32m    156\u001b[0m     \u001b[38;5;28;01melse\u001b[39;00m:\n\u001b[1;32m    157\u001b[0m         \u001b[38;5;28;01mraise\u001b[39;00m\n\u001b[0;32m--> 158\u001b[0m \u001b[38;5;28;01mraise\u001b[39;00m java_exception\n",
      "\u001b[0;31mTableException\u001b[0m: org.apache.flink.table.api.TableException: OVER windows' ordering in stream mode must be defined on a time attribute.\n\tat org.apache.flink.table.planner.plan.nodes.exec.stream.StreamExecOverAggregate.translateToPlanInternal(StreamExecOverAggregate.java:175)\n\tat org.apache.flink.table.planner.plan.nodes.exec.ExecNodeBase.translateToPlan(ExecNodeBase.java:168)\n\tat org.apache.flink.table.planner.plan.nodes.exec.ExecEdge.translateToPlan(ExecEdge.java:259)\n\tat org.apache.flink.table.planner.plan.nodes.exec.common.CommonExecCalc.translateToPlanInternal(CommonExecCalc.java:94)\n\tat org.apache.flink.table.planner.plan.nodes.exec.ExecNodeBase.translateToPlan(ExecNodeBase.java:168)\n\tat org.apache.flink.table.planner.plan.nodes.exec.ExecEdge.translateToPlan(ExecEdge.java:259)\n\tat org.apache.flink.table.planner.plan.nodes.exec.stream.StreamExecSink.translateToPlanInternal(StreamExecSink.java:177)\n\tat org.apache.flink.table.planner.plan.nodes.exec.ExecNodeBase.translateToPlan(ExecNodeBase.java:168)\n\tat org.apache.flink.table.planner.delegation.StreamPlanner.$anonfun$translateToPlan$1(StreamPlanner.scala:85)\n\tat scala.collection.TraversableLike.$anonfun$map$1(TraversableLike.scala:233)\n\tat scala.collection.Iterator.foreach(Iterator.scala:937)\n\tat scala.collection.Iterator.foreach$(Iterator.scala:937)\n\tat scala.collection.AbstractIterator.foreach(Iterator.scala:1425)\n\tat scala.collection.IterableLike.foreach(IterableLike.scala:70)\n\tat scala.collection.IterableLike.foreach$(IterableLike.scala:69)\n\tat scala.collection.AbstractIterable.foreach(Iterable.scala:54)\n\tat scala.collection.TraversableLike.map(TraversableLike.scala:233)\n\tat scala.collection.TraversableLike.map$(TraversableLike.scala:226)\n\tat scala.collection.AbstractTraversable.map(Traversable.scala:104)\n\tat org.apache.flink.table.planner.delegation.StreamPlanner.translateToPlan(StreamPlanner.scala:84)\n\tat org.apache.flink.table.planner.delegation.PlannerBase.translate(PlannerBase.scala:180)\n\tat org.apache.flink.table.api.internal.TableEnvironmentImpl.translate(TableEnvironmentImpl.java:1308)\n\tat org.apache.flink.table.api.internal.TableEnvironmentImpl.executeInternal(TableEnvironmentImpl.java:1133)\n\tat org.apache.flink.table.api.internal.TableEnvironmentImpl.executeSql(TableEnvironmentImpl.java:735)\n\tat java.base/jdk.internal.reflect.DirectMethodHandleAccessor.invoke(DirectMethodHandleAccessor.java:103)\n\tat java.base/java.lang.reflect.Method.invoke(Method.java:580)\n\tat org.apache.flink.api.python.shaded.py4j.reflection.MethodInvoker.invoke(MethodInvoker.java:244)\n\tat org.apache.flink.api.python.shaded.py4j.reflection.ReflectionEngine.invoke(ReflectionEngine.java:374)\n\tat org.apache.flink.api.python.shaded.py4j.Gateway.invoke(Gateway.java:282)\n\tat org.apache.flink.api.python.shaded.py4j.commands.AbstractCommand.invokeMethod(AbstractCommand.java:132)\n\tat org.apache.flink.api.python.shaded.py4j.commands.CallCommand.execute(CallCommand.java:79)\n\tat org.apache.flink.api.python.shaded.py4j.GatewayConnection.run(GatewayConnection.java:238)\n\tat java.base/java.lang.Thread.run(Thread.java:1575)\n"
     ]
    }
   ],
   "source": [
    "t_env.execute_sql(\"\"\"\n",
    "WITH aggregated AS (\n",
    "    SELECT \n",
    "        name_coin,\n",
    "        `timestamp`,\n",
    "        TUMBLE_START(`timestamp`, INTERVAL '1' MINUTE) AS rounded_minute,\n",
    "        AVG(`open`) AS avg_open\n",
    "    FROM bitcoin_table4\n",
    "    GROUP BY \n",
    "        name_coin,\n",
    "        `timestamp`,\n",
    "        TUMBLE(`timestamp`, INTERVAL '1' MINUTE)\n",
    ")\n",
    "SELECT \n",
    "    name_coin,\n",
    "    rounded_minute,\n",
    "    avg_open,\n",
    "    LAG(avg_open, 1) OVER (\n",
    "        PARTITION BY name_coin\n",
    "        ORDER BY `timestamp`\n",
    "    ) AS prev_avg_open,\n",
    "    avg_open - LAG(avg_open, 1) OVER (\n",
    "        PARTITION BY name_coin\n",
    "        ORDER BY `timestamp`\n",
    "    ) AS diff_avg_open\n",
    "FROM aggregated\n",
    "\n",
    "\"\"\")"
   ]
  },
  {
   "cell_type": "code",
   "execution_count": null,
   "metadata": {},
   "outputs": [],
   "source": [
    "t_env.execute_sql(\"\"\"\n",
    "    SELECT \n",
    "        name_coin,\n",
    "        `timestamp`,\n",
    "        TUMBLE_START(`timestamp`, INTERVAL '1' MINUTE) AS rounded_minute,\n",
    "        AVG(`open`) AS avg_open\n",
    "    FROM bitcoin_table4\n",
    "    GROUP BY \n",
    "        name_coin,\n",
    "        `timestamp`,\n",
    "        TUMBLE(`timestamp`, INTERVAL '1' MINUTE)\n",
    "                  \"\"\").print()"
   ]
  },
  {
   "cell_type": "code",
   "execution_count": 3,
   "metadata": {},
   "outputs": [
    {
     "name": "stdout",
     "output_type": "stream",
     "text": [
      "+----+--------------------------------+-------------------------+--------------------------------+\n",
      "| op |                      name_coin |          rounded_minute |                       avg_open |\n",
      "+----+--------------------------------+-------------------------+--------------------------------+\n",
      "| +I |                        BTC/USD | 2025-02-04 10:39:00.000 |                         <NULL> |\n"
     ]
    },
    {
     "name": "stderr",
     "output_type": "stream",
     "text": [
      "ERROR:root:KeyboardInterrupt while sending command.\n",
      "Traceback (most recent call last):\n",
      "  File \"/Users/gerardomartinez/DataEng/.venv/lib/python3.10/site-packages/py4j/java_gateway.py\", line 1038, in send_command\n",
      "    response = connection.send_command(command)\n",
      "  File \"/Users/gerardomartinez/DataEng/.venv/lib/python3.10/site-packages/py4j/java_gateway.py\", line 1217, in send_command\n",
      "    answer = smart_decode(self.stream.readline()[:-1])\n",
      "  File \"/Users/gerardomartinez/.pyenv/versions/3.10.4/lib/python3.10/socket.py\", line 705, in readinto\n",
      "    return self._sock.recv_into(b)\n",
      "KeyboardInterrupt\n"
     ]
    },
    {
     "ename": "KeyboardInterrupt",
     "evalue": "",
     "output_type": "error",
     "traceback": [
      "\u001b[0;31m---------------------------------------------------------------------------\u001b[0m",
      "\u001b[0;31mKeyboardInterrupt\u001b[0m                         Traceback (most recent call last)",
      "Cell \u001b[0;32mIn[3], line 8\u001b[0m\n\u001b[1;32m      1\u001b[0m \u001b[43mt_env\u001b[49m\u001b[38;5;241;43m.\u001b[39;49m\u001b[43mexecute_sql\u001b[49m\u001b[43m(\u001b[49m\u001b[38;5;124;43m\"\"\"\u001b[39;49m\n\u001b[1;32m      2\u001b[0m \u001b[38;5;124;43m   SELECT \u001b[39;49m\n\u001b[1;32m      3\u001b[0m \u001b[38;5;124;43m        name_coin, \u001b[39;49m\n\u001b[1;32m      4\u001b[0m \u001b[38;5;124;43m        TUMBLE_START(proc_time, INTERVAL \u001b[39;49m\u001b[38;5;124;43m'\u001b[39;49m\u001b[38;5;124;43m1\u001b[39;49m\u001b[38;5;124;43m'\u001b[39;49m\u001b[38;5;124;43m MINUTE) AS rounded_minute,\u001b[39;49m\n\u001b[1;32m      5\u001b[0m \u001b[38;5;124;43m        AVG(`open`) AS avg_open\u001b[39;49m\n\u001b[1;32m      6\u001b[0m \u001b[38;5;124;43m    FROM bitcoin_table4\u001b[39;49m\n\u001b[1;32m      7\u001b[0m \u001b[38;5;124;43m    GROUP BY name_coin, TUMBLE(proc_time, INTERVAL \u001b[39;49m\u001b[38;5;124;43m'\u001b[39;49m\u001b[38;5;124;43m1\u001b[39;49m\u001b[38;5;124;43m'\u001b[39;49m\u001b[38;5;124;43m MINUTE)\u001b[39;49m\n\u001b[0;32m----> 8\u001b[0m \u001b[38;5;124;43m\"\"\"\u001b[39;49m\u001b[43m)\u001b[49m\u001b[38;5;241;43m.\u001b[39;49m\u001b[43mprint\u001b[49m\u001b[43m(\u001b[49m\u001b[43m)\u001b[49m\n",
      "File \u001b[0;32m~/DataEng/.venv/lib/python3.10/site-packages/pyflink/table/table_result.py:219\u001b[0m, in \u001b[0;36mTableResult.print\u001b[0;34m(self)\u001b[0m\n\u001b[1;32m    198\u001b[0m \u001b[38;5;28;01mdef\u001b[39;00m\u001b[38;5;250m \u001b[39m\u001b[38;5;21mprint\u001b[39m(\u001b[38;5;28mself\u001b[39m):\n\u001b[1;32m    199\u001b[0m \u001b[38;5;250m    \u001b[39m\u001b[38;5;124;03m\"\"\"\u001b[39;00m\n\u001b[1;32m    200\u001b[0m \u001b[38;5;124;03m    Print the result contents as tableau form to client console.\u001b[39;00m\n\u001b[1;32m    201\u001b[0m \n\u001b[0;32m   (...)\u001b[0m\n\u001b[1;32m    217\u001b[0m \u001b[38;5;124;03m    .. versionadded:: 1.11.0\u001b[39;00m\n\u001b[1;32m    218\u001b[0m \u001b[38;5;124;03m    \"\"\"\u001b[39;00m\n\u001b[0;32m--> 219\u001b[0m     \u001b[38;5;28;43mself\u001b[39;49m\u001b[38;5;241;43m.\u001b[39;49m\u001b[43m_j_table_result\u001b[49m\u001b[38;5;241;43m.\u001b[39;49m\u001b[43mprint\u001b[49m\u001b[43m(\u001b[49m\u001b[43m)\u001b[49m\n",
      "File \u001b[0;32m~/DataEng/.venv/lib/python3.10/site-packages/py4j/java_gateway.py:1321\u001b[0m, in \u001b[0;36mJavaMember.__call__\u001b[0;34m(self, *args)\u001b[0m\n\u001b[1;32m   1314\u001b[0m args_command, temp_args \u001b[38;5;241m=\u001b[39m \u001b[38;5;28mself\u001b[39m\u001b[38;5;241m.\u001b[39m_build_args(\u001b[38;5;241m*\u001b[39margs)\n\u001b[1;32m   1316\u001b[0m command \u001b[38;5;241m=\u001b[39m proto\u001b[38;5;241m.\u001b[39mCALL_COMMAND_NAME \u001b[38;5;241m+\u001b[39m\\\n\u001b[1;32m   1317\u001b[0m     \u001b[38;5;28mself\u001b[39m\u001b[38;5;241m.\u001b[39mcommand_header \u001b[38;5;241m+\u001b[39m\\\n\u001b[1;32m   1318\u001b[0m     args_command \u001b[38;5;241m+\u001b[39m\\\n\u001b[1;32m   1319\u001b[0m     proto\u001b[38;5;241m.\u001b[39mEND_COMMAND_PART\n\u001b[0;32m-> 1321\u001b[0m answer \u001b[38;5;241m=\u001b[39m \u001b[38;5;28;43mself\u001b[39;49m\u001b[38;5;241;43m.\u001b[39;49m\u001b[43mgateway_client\u001b[49m\u001b[38;5;241;43m.\u001b[39;49m\u001b[43msend_command\u001b[49m\u001b[43m(\u001b[49m\u001b[43mcommand\u001b[49m\u001b[43m)\u001b[49m\n\u001b[1;32m   1322\u001b[0m return_value \u001b[38;5;241m=\u001b[39m get_return_value(\n\u001b[1;32m   1323\u001b[0m     answer, \u001b[38;5;28mself\u001b[39m\u001b[38;5;241m.\u001b[39mgateway_client, \u001b[38;5;28mself\u001b[39m\u001b[38;5;241m.\u001b[39mtarget_id, \u001b[38;5;28mself\u001b[39m\u001b[38;5;241m.\u001b[39mname)\n\u001b[1;32m   1325\u001b[0m \u001b[38;5;28;01mfor\u001b[39;00m temp_arg \u001b[38;5;129;01min\u001b[39;00m temp_args:\n",
      "File \u001b[0;32m~/DataEng/.venv/lib/python3.10/site-packages/py4j/java_gateway.py:1038\u001b[0m, in \u001b[0;36mGatewayClient.send_command\u001b[0;34m(self, command, retry, binary)\u001b[0m\n\u001b[1;32m   1036\u001b[0m connection \u001b[38;5;241m=\u001b[39m \u001b[38;5;28mself\u001b[39m\u001b[38;5;241m.\u001b[39m_get_connection()\n\u001b[1;32m   1037\u001b[0m \u001b[38;5;28;01mtry\u001b[39;00m:\n\u001b[0;32m-> 1038\u001b[0m     response \u001b[38;5;241m=\u001b[39m \u001b[43mconnection\u001b[49m\u001b[38;5;241;43m.\u001b[39;49m\u001b[43msend_command\u001b[49m\u001b[43m(\u001b[49m\u001b[43mcommand\u001b[49m\u001b[43m)\u001b[49m\n\u001b[1;32m   1039\u001b[0m     \u001b[38;5;28;01mif\u001b[39;00m binary:\n\u001b[1;32m   1040\u001b[0m         \u001b[38;5;28;01mreturn\u001b[39;00m response, \u001b[38;5;28mself\u001b[39m\u001b[38;5;241m.\u001b[39m_create_connection_guard(connection)\n",
      "File \u001b[0;32m~/DataEng/.venv/lib/python3.10/site-packages/py4j/java_gateway.py:1217\u001b[0m, in \u001b[0;36mGatewayConnection.send_command\u001b[0;34m(self, command)\u001b[0m\n\u001b[1;32m   1213\u001b[0m     \u001b[38;5;28;01mraise\u001b[39;00m Py4JNetworkError(\n\u001b[1;32m   1214\u001b[0m         \u001b[38;5;124m\"\u001b[39m\u001b[38;5;124mError while sending\u001b[39m\u001b[38;5;124m\"\u001b[39m, e, proto\u001b[38;5;241m.\u001b[39mERROR_ON_SEND)\n\u001b[1;32m   1216\u001b[0m \u001b[38;5;28;01mtry\u001b[39;00m:\n\u001b[0;32m-> 1217\u001b[0m     answer \u001b[38;5;241m=\u001b[39m smart_decode(\u001b[38;5;28;43mself\u001b[39;49m\u001b[38;5;241;43m.\u001b[39;49m\u001b[43mstream\u001b[49m\u001b[38;5;241;43m.\u001b[39;49m\u001b[43mreadline\u001b[49m\u001b[43m(\u001b[49m\u001b[43m)\u001b[49m[:\u001b[38;5;241m-\u001b[39m\u001b[38;5;241m1\u001b[39m])\n\u001b[1;32m   1218\u001b[0m     logger\u001b[38;5;241m.\u001b[39mdebug(\u001b[38;5;124m\"\u001b[39m\u001b[38;5;124mAnswer received: \u001b[39m\u001b[38;5;132;01m{0}\u001b[39;00m\u001b[38;5;124m\"\u001b[39m\u001b[38;5;241m.\u001b[39mformat(answer))\n\u001b[1;32m   1219\u001b[0m     \u001b[38;5;28;01mif\u001b[39;00m answer\u001b[38;5;241m.\u001b[39mstartswith(proto\u001b[38;5;241m.\u001b[39mRETURN_MESSAGE):\n",
      "File \u001b[0;32m~/.pyenv/versions/3.10.4/lib/python3.10/socket.py:705\u001b[0m, in \u001b[0;36mSocketIO.readinto\u001b[0;34m(self, b)\u001b[0m\n\u001b[1;32m    703\u001b[0m \u001b[38;5;28;01mwhile\u001b[39;00m \u001b[38;5;28;01mTrue\u001b[39;00m:\n\u001b[1;32m    704\u001b[0m     \u001b[38;5;28;01mtry\u001b[39;00m:\n\u001b[0;32m--> 705\u001b[0m         \u001b[38;5;28;01mreturn\u001b[39;00m \u001b[38;5;28;43mself\u001b[39;49m\u001b[38;5;241;43m.\u001b[39;49m\u001b[43m_sock\u001b[49m\u001b[38;5;241;43m.\u001b[39;49m\u001b[43mrecv_into\u001b[49m\u001b[43m(\u001b[49m\u001b[43mb\u001b[49m\u001b[43m)\u001b[49m\n\u001b[1;32m    706\u001b[0m     \u001b[38;5;28;01mexcept\u001b[39;00m timeout:\n\u001b[1;32m    707\u001b[0m         \u001b[38;5;28mself\u001b[39m\u001b[38;5;241m.\u001b[39m_timeout_occurred \u001b[38;5;241m=\u001b[39m \u001b[38;5;28;01mTrue\u001b[39;00m\n",
      "\u001b[0;31mKeyboardInterrupt\u001b[0m: "
     ]
    },
    {
     "name": "stdout",
     "output_type": "stream",
     "text": [
      "| +I |                        BTC/USD | 2025-02-04 10:40:00.000 |                         <NULL> |\n",
      "| +I |                        BTC/USD | 2025-02-04 10:41:00.000 |                         <NULL> |\n",
      "| +I |                        BTC/USD | 2025-02-04 10:42:00.000 |                         <NULL> |\n",
      "| +I |                        BTC/USD | 2025-02-04 10:43:00.000 |                         <NULL> |\n",
      "| +I |                        BTC/USD | 2025-02-04 10:44:00.000 |                         <NULL> |\n",
      "| +I |                        BTC/USD | 2025-02-04 10:45:00.000 |                         <NULL> |\n",
      "| +I |                        BTC/USD | 2025-02-04 10:46:00.000 |                         <NULL> |\n",
      "| +I |                        BTC/USD | 2025-02-04 10:47:00.000 |                         <NULL> |\n",
      "| +I |                        BTC/USD | 2025-02-04 10:48:00.000 |                         <NULL> |\n",
      "| +I |                        BTC/USD | 2025-02-04 10:49:00.000 |                         <NULL> |\n",
      "| +I |                        BTC/USD | 2025-02-04 10:50:00.000 |                         <NULL> |\n",
      "| +I |                        BTC/USD | 2025-02-04 10:51:00.000 |                         <NULL> |\n",
      "| +I |                        BTC/USD | 2025-02-04 10:52:00.000 |                         <NULL> |\n",
      "| +I |                        BTC/USD | 2025-02-04 10:53:00.000 |                         <NULL> |\n",
      "| +I |                        BTC/USD | 2025-02-04 10:54:00.000 |                         <NULL> |\n",
      "| +I |                        BTC/USD | 2025-02-04 10:55:00.000 |                         <NULL> |\n",
      "| +I |                        BTC/USD | 2025-02-04 10:56:00.000 |                         <NULL> |\n",
      "| +I |                        BTC/USD | 2025-02-04 10:57:00.000 |                         <NULL> |\n",
      "| +I |                        BTC/USD | 2025-02-04 10:58:00.000 |                         <NULL> |\n",
      "| +I |                        BTC/USD | 2025-02-04 10:59:00.000 |                         <NULL> |\n",
      "| +I |                        BTC/USD | 2025-02-04 11:00:00.000 |                         <NULL> |\n",
      "| +I |                        BTC/USD | 2025-02-04 11:01:00.000 |                         <NULL> |\n",
      "| +I |                        BTC/USD | 2025-02-04 11:02:00.000 |                         <NULL> |\n",
      "| +I |                        BTC/USD | 2025-02-04 11:03:00.000 |                         <NULL> |\n"
     ]
    }
   ],
   "source": [
    "t_env.execute_sql(\"\"\"\n",
    "   SELECT \n",
    "        name_coin, \n",
    "        TUMBLE_START(proc_time, INTERVAL '1' MINUTE) AS rounded_minute,\n",
    "        AVG(`open`) AS avg_open\n",
    "    FROM bitcoin_table4\n",
    "    GROUP BY name_coin, TUMBLE(proc_time, INTERVAL '1' MINUTE)\n",
    "\"\"\").print()\n"
   ]
  },
  {
   "cell_type": "code",
   "execution_count": 5,
   "metadata": {},
   "outputs": [
    {
     "name": "stdout",
     "output_type": "stream",
     "text": [
      "+----+--------------------------------+-------------------------+--------------------------------+\n",
      "| op |                      name_coin |          rounded_minute |                       avg_open |\n",
      "+----+--------------------------------+-------------------------+--------------------------------+\n",
      "| +I |                        BTC/USD | 2025-02-03 10:15:00.000 |                      105216.72 |\n",
      "| +I |                        BTC/USD | 2025-02-03 10:16:00.000 |                       96869.15 |\n"
     ]
    },
    {
     "name": "stderr",
     "output_type": "stream",
     "text": [
      "ERROR:root:KeyboardInterrupt while sending command.\n",
      "Traceback (most recent call last):\n",
      "  File \"/Users/gerardomartinez/DataEng/.venv/lib/python3.10/site-packages/py4j/java_gateway.py\", line 1038, in send_command\n",
      "    response = connection.send_command(command)\n",
      "  File \"/Users/gerardomartinez/DataEng/.venv/lib/python3.10/site-packages/py4j/java_gateway.py\", line 1217, in send_command\n",
      "    answer = smart_decode(self.stream.readline()[:-1])\n",
      "  File \"/Users/gerardomartinez/.pyenv/versions/3.10.4/lib/python3.10/socket.py\", line 705, in readinto\n",
      "    return self._sock.recv_into(b)\n",
      "KeyboardInterrupt\n"
     ]
    },
    {
     "ename": "KeyboardInterrupt",
     "evalue": "",
     "output_type": "error",
     "traceback": [
      "\u001b[0;31m---------------------------------------------------------------------------\u001b[0m",
      "\u001b[0;31mKeyboardInterrupt\u001b[0m                         Traceback (most recent call last)",
      "Cell \u001b[0;32mIn[5], line 1\u001b[0m\n\u001b[0;32m----> 1\u001b[0m \u001b[43mrevenue\u001b[49m\u001b[38;5;241;43m.\u001b[39;49m\u001b[43mexecute\u001b[49m\u001b[43m(\u001b[49m\u001b[43m)\u001b[49m\u001b[38;5;241;43m.\u001b[39;49m\u001b[43mprint\u001b[49m\u001b[43m(\u001b[49m\u001b[43m)\u001b[49m\n",
      "File \u001b[0;32m~/DataEng/.venv/lib/python3.10/site-packages/pyflink/table/table_result.py:219\u001b[0m, in \u001b[0;36mTableResult.print\u001b[0;34m(self)\u001b[0m\n\u001b[1;32m    198\u001b[0m \u001b[38;5;28;01mdef\u001b[39;00m\u001b[38;5;250m \u001b[39m\u001b[38;5;21mprint\u001b[39m(\u001b[38;5;28mself\u001b[39m):\n\u001b[1;32m    199\u001b[0m \u001b[38;5;250m    \u001b[39m\u001b[38;5;124;03m\"\"\"\u001b[39;00m\n\u001b[1;32m    200\u001b[0m \u001b[38;5;124;03m    Print the result contents as tableau form to client console.\u001b[39;00m\n\u001b[1;32m    201\u001b[0m \n\u001b[0;32m   (...)\u001b[0m\n\u001b[1;32m    217\u001b[0m \u001b[38;5;124;03m    .. versionadded:: 1.11.0\u001b[39;00m\n\u001b[1;32m    218\u001b[0m \u001b[38;5;124;03m    \"\"\"\u001b[39;00m\n\u001b[0;32m--> 219\u001b[0m     \u001b[38;5;28;43mself\u001b[39;49m\u001b[38;5;241;43m.\u001b[39;49m\u001b[43m_j_table_result\u001b[49m\u001b[38;5;241;43m.\u001b[39;49m\u001b[43mprint\u001b[49m\u001b[43m(\u001b[49m\u001b[43m)\u001b[49m\n",
      "File \u001b[0;32m~/DataEng/.venv/lib/python3.10/site-packages/py4j/java_gateway.py:1321\u001b[0m, in \u001b[0;36mJavaMember.__call__\u001b[0;34m(self, *args)\u001b[0m\n\u001b[1;32m   1314\u001b[0m args_command, temp_args \u001b[38;5;241m=\u001b[39m \u001b[38;5;28mself\u001b[39m\u001b[38;5;241m.\u001b[39m_build_args(\u001b[38;5;241m*\u001b[39margs)\n\u001b[1;32m   1316\u001b[0m command \u001b[38;5;241m=\u001b[39m proto\u001b[38;5;241m.\u001b[39mCALL_COMMAND_NAME \u001b[38;5;241m+\u001b[39m\\\n\u001b[1;32m   1317\u001b[0m     \u001b[38;5;28mself\u001b[39m\u001b[38;5;241m.\u001b[39mcommand_header \u001b[38;5;241m+\u001b[39m\\\n\u001b[1;32m   1318\u001b[0m     args_command \u001b[38;5;241m+\u001b[39m\\\n\u001b[1;32m   1319\u001b[0m     proto\u001b[38;5;241m.\u001b[39mEND_COMMAND_PART\n\u001b[0;32m-> 1321\u001b[0m answer \u001b[38;5;241m=\u001b[39m \u001b[38;5;28;43mself\u001b[39;49m\u001b[38;5;241;43m.\u001b[39;49m\u001b[43mgateway_client\u001b[49m\u001b[38;5;241;43m.\u001b[39;49m\u001b[43msend_command\u001b[49m\u001b[43m(\u001b[49m\u001b[43mcommand\u001b[49m\u001b[43m)\u001b[49m\n\u001b[1;32m   1322\u001b[0m return_value \u001b[38;5;241m=\u001b[39m get_return_value(\n\u001b[1;32m   1323\u001b[0m     answer, \u001b[38;5;28mself\u001b[39m\u001b[38;5;241m.\u001b[39mgateway_client, \u001b[38;5;28mself\u001b[39m\u001b[38;5;241m.\u001b[39mtarget_id, \u001b[38;5;28mself\u001b[39m\u001b[38;5;241m.\u001b[39mname)\n\u001b[1;32m   1325\u001b[0m \u001b[38;5;28;01mfor\u001b[39;00m temp_arg \u001b[38;5;129;01min\u001b[39;00m temp_args:\n",
      "File \u001b[0;32m~/DataEng/.venv/lib/python3.10/site-packages/py4j/java_gateway.py:1038\u001b[0m, in \u001b[0;36mGatewayClient.send_command\u001b[0;34m(self, command, retry, binary)\u001b[0m\n\u001b[1;32m   1036\u001b[0m connection \u001b[38;5;241m=\u001b[39m \u001b[38;5;28mself\u001b[39m\u001b[38;5;241m.\u001b[39m_get_connection()\n\u001b[1;32m   1037\u001b[0m \u001b[38;5;28;01mtry\u001b[39;00m:\n\u001b[0;32m-> 1038\u001b[0m     response \u001b[38;5;241m=\u001b[39m \u001b[43mconnection\u001b[49m\u001b[38;5;241;43m.\u001b[39;49m\u001b[43msend_command\u001b[49m\u001b[43m(\u001b[49m\u001b[43mcommand\u001b[49m\u001b[43m)\u001b[49m\n\u001b[1;32m   1039\u001b[0m     \u001b[38;5;28;01mif\u001b[39;00m binary:\n\u001b[1;32m   1040\u001b[0m         \u001b[38;5;28;01mreturn\u001b[39;00m response, \u001b[38;5;28mself\u001b[39m\u001b[38;5;241m.\u001b[39m_create_connection_guard(connection)\n",
      "File \u001b[0;32m~/DataEng/.venv/lib/python3.10/site-packages/py4j/java_gateway.py:1217\u001b[0m, in \u001b[0;36mGatewayConnection.send_command\u001b[0;34m(self, command)\u001b[0m\n\u001b[1;32m   1213\u001b[0m     \u001b[38;5;28;01mraise\u001b[39;00m Py4JNetworkError(\n\u001b[1;32m   1214\u001b[0m         \u001b[38;5;124m\"\u001b[39m\u001b[38;5;124mError while sending\u001b[39m\u001b[38;5;124m\"\u001b[39m, e, proto\u001b[38;5;241m.\u001b[39mERROR_ON_SEND)\n\u001b[1;32m   1216\u001b[0m \u001b[38;5;28;01mtry\u001b[39;00m:\n\u001b[0;32m-> 1217\u001b[0m     answer \u001b[38;5;241m=\u001b[39m smart_decode(\u001b[38;5;28;43mself\u001b[39;49m\u001b[38;5;241;43m.\u001b[39;49m\u001b[43mstream\u001b[49m\u001b[38;5;241;43m.\u001b[39;49m\u001b[43mreadline\u001b[49m\u001b[43m(\u001b[49m\u001b[43m)\u001b[49m[:\u001b[38;5;241m-\u001b[39m\u001b[38;5;241m1\u001b[39m])\n\u001b[1;32m   1218\u001b[0m     logger\u001b[38;5;241m.\u001b[39mdebug(\u001b[38;5;124m\"\u001b[39m\u001b[38;5;124mAnswer received: \u001b[39m\u001b[38;5;132;01m{0}\u001b[39;00m\u001b[38;5;124m\"\u001b[39m\u001b[38;5;241m.\u001b[39mformat(answer))\n\u001b[1;32m   1219\u001b[0m     \u001b[38;5;28;01mif\u001b[39;00m answer\u001b[38;5;241m.\u001b[39mstartswith(proto\u001b[38;5;241m.\u001b[39mRETURN_MESSAGE):\n",
      "File \u001b[0;32m~/.pyenv/versions/3.10.4/lib/python3.10/socket.py:705\u001b[0m, in \u001b[0;36mSocketIO.readinto\u001b[0;34m(self, b)\u001b[0m\n\u001b[1;32m    703\u001b[0m \u001b[38;5;28;01mwhile\u001b[39;00m \u001b[38;5;28;01mTrue\u001b[39;00m:\n\u001b[1;32m    704\u001b[0m     \u001b[38;5;28;01mtry\u001b[39;00m:\n\u001b[0;32m--> 705\u001b[0m         \u001b[38;5;28;01mreturn\u001b[39;00m \u001b[38;5;28;43mself\u001b[39;49m\u001b[38;5;241;43m.\u001b[39;49m\u001b[43m_sock\u001b[49m\u001b[38;5;241;43m.\u001b[39;49m\u001b[43mrecv_into\u001b[49m\u001b[43m(\u001b[49m\u001b[43mb\u001b[49m\u001b[43m)\u001b[49m\n\u001b[1;32m    706\u001b[0m     \u001b[38;5;28;01mexcept\u001b[39;00m timeout:\n\u001b[1;32m    707\u001b[0m         \u001b[38;5;28mself\u001b[39m\u001b[38;5;241m.\u001b[39m_timeout_occurred \u001b[38;5;241m=\u001b[39m \u001b[38;5;28;01mTrue\u001b[39;00m\n",
      "\u001b[0;31mKeyboardInterrupt\u001b[0m: "
     ]
    }
   ],
   "source": [
    "revenue.execute().print()"
   ]
  },
  {
   "cell_type": "code",
   "execution_count": null,
   "metadata": {},
   "outputs": [],
   "source": []
  }
 ],
 "metadata": {
  "kernelspec": {
   "display_name": ".venv",
   "language": "python",
   "name": "python3"
  },
  "language_info": {
   "codemirror_mode": {
    "name": "ipython",
    "version": 3
   },
   "file_extension": ".py",
   "mimetype": "text/x-python",
   "name": "python",
   "nbconvert_exporter": "python",
   "pygments_lexer": "ipython3",
   "version": "3.10.4"
  }
 },
 "nbformat": 4,
 "nbformat_minor": 2
}
